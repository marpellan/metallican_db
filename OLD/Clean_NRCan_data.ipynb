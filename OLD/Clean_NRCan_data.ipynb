{
 "cells": [
  {
   "cell_type": "code",
   "id": "initial_id",
   "metadata": {
    "collapsed": true
   },
   "source": [
    "import pandas as pd\n",
    "import numpy as np\n",
    "import matplotlib.pyplot as plt"
   ],
   "outputs": [],
   "execution_count": null
  },
  {
   "metadata": {},
   "cell_type": "code",
   "source": [
    "production_file_path = r'data/NRCan/Production, shipments and value of shipments of metallic and non-metallic minerals - 16100022-eng/16100022.csv'\n",
    "energy_use_file_path = r'data/NRCan/Mining industries, energy consumption by NAICS - 16100029-eng/16100029.csv'"
   ],
   "id": "1e03c56c3ad3fa14",
   "outputs": [],
   "execution_count": null
  },
  {
   "metadata": {},
   "cell_type": "markdown",
   "source": "# Production data from 2019 to 2023",
   "id": "13c53e1627935ff8"
  },
  {
   "metadata": {},
   "cell_type": "markdown",
   "source": "Production, shipments and value of shipments of metallic and non-metallic minerals, annual. Provided by NRCan can be dowloaded from [here](https://www150.statcan.gc.ca/t1/tbl1/en/tv.action?pid=1610002201)",
   "id": "9c1f75f485cdb038"
  },
  {
   "metadata": {},
   "cell_type": "code",
   "source": "production_df = pd.read_csv(production_file_path)",
   "id": "c80307ac6f96ec7c",
   "outputs": [],
   "execution_count": null
  },
  {
   "metadata": {},
   "cell_type": "code",
   "source": "production_df",
   "id": "ef7d79aeb68e8b8c",
   "outputs": [],
   "execution_count": null
  },
  {
   "metadata": {},
   "cell_type": "code",
   "source": [
    "# Filter for Canada and select only the relevant columns\n",
    "production_df_clean = production_df[\n",
    "    (production_df['GEO'] == 'Canada') & (production_df['Variables'] == 'Quantity produced') & (production_df['UOM'] != 'Thousands of dollars') \n",
    "][['REF_DATE', 'GEO', 'Products', 'Variables', 'UOM', 'VALUE']]\n",
    "\n",
    "# Sort products alphabetically\n",
    "production_df_clean = production_df_clean.sort_values(by='Products').reset_index(drop=True)\n",
    "production_df_clean.fillna({'VALUE': 0}, inplace=True)\n",
    "production_df_clean"
   ],
   "id": "1f51143cf7e5d462",
   "outputs": [],
   "execution_count": null
  },
  {
   "metadata": {},
   "cell_type": "code",
   "source": [
    "# Lists for categorizing product types\n",
    "metals = ['cobalt', 'copper', 'gold', 'ilmenite', 'iridium', 'iron', 'lead', 'lithium', 'molybdenum', 'nickel', 'niobium', \n",
    "          'palladium', 'platinum', 'platinum group', 'rhodium', 'ruthenium', 'silver', 'spodumene', 'tantalum', 'titanium', 'uranium', 'zinc']\n",
    "non_metals = ['barite', 'diamonds', 'gemstones', 'graphite', 'gypsum', 'marl', 'mica', 'peat', 'potash', \n",
    "              'potassium', 'pumice', 'salt', 'serpentine', 'soapstone', 'sodium', 'wollastonite', 'zeolite']\n",
    "aggregates = ['clay', 'lime', 'granite', 'magnesite', 'marble', 'nepheline', 'sand', 'slate', 'stone']\n",
    "\n",
    "# Add the 'TYPE' column based on product keywords\n",
    "def categorize_product(product_name):\n",
    "    product_name = product_name.lower()\n",
    "    if any(metal in product_name for metal in metals):\n",
    "        return 'Metals'\n",
    "    elif any(non_metal in product_name for non_metal in non_metals):\n",
    "        return 'Non_metals'\n",
    "    elif any(aggregate in product_name for aggregate in aggregates):\n",
    "        return 'Aggregates'\n",
    "    return 'Other'"
   ],
   "id": "8ee844af0afb0d84",
   "outputs": [],
   "execution_count": null
  },
  {
   "metadata": {},
   "cell_type": "code",
   "source": [
    "# Apply the categorization function\n",
    "production_df_clean['TYPE'] = production_df_clean['Products'].apply(categorize_product)"
   ],
   "id": "f67952432882b8f4",
   "outputs": [],
   "execution_count": null
  },
  {
   "metadata": {},
   "cell_type": "code",
   "source": "production_df_clean",
   "id": "aa34dfe91ab9c8e",
   "outputs": [],
   "execution_count": null
  },
  {
   "metadata": {},
   "cell_type": "code",
   "source": "production_df_clean.to_csv(r'data/NRCan/Cleaned/qty_produced_2019_2023.csv', index=False)",
   "id": "4fba0571037c5bfa",
   "outputs": [],
   "execution_count": null
  },
  {
   "metadata": {},
   "cell_type": "markdown",
   "source": "# Energy consumption ",
   "id": "8ba5edefff9e7f74"
  },
  {
   "metadata": {},
   "cell_type": "markdown",
   "source": "Data on the quantity of energy purchased and the energy expenses are presented at the national level, by energy source (electricity, heavy fuel oil, diesel, natural gas, etc.) and by North American Industry Classification System (NAICS). Data provided by NRCan, it can be dowloaded from [here](https://open.canada.ca/data/en/dataset/85727787-6faf-4fdd-865e-b80ee9760753)",
   "id": "5ea38f3bfca3ae6e"
  },
  {
   "metadata": {},
   "cell_type": "code",
   "source": "energy_df = pd.read_csv(energy_use_file_path)",
   "id": "5f0c188b718d5d7",
   "outputs": [],
   "execution_count": null
  },
  {
   "metadata": {},
   "cell_type": "code",
   "source": [
    "# Filter data for Canada, physical units, and keep relevant columns\n",
    "energy_df_clean = energy_df[\n",
    "    (energy_df['GEO'] == 'Canada') & (energy_df['UOM'] != 'Thousands of dollars')\n",
    "][['REF_DATE', 'GEO', 'North American Industry Classification System (NAICS)', 'Energy types', 'UOM', 'VALUE']]\n",
    "\n",
    "energy_df_clean"
   ],
   "id": "cf6f4653f5ab3a2b",
   "outputs": [],
   "execution_count": null
  },
  {
   "metadata": {},
   "cell_type": "code",
   "source": "energy_df_clean.to_csv(r'data/NRCan/Cleaned/energy_consumption_2019_2023.csv', index=False)",
   "id": "ab346c38f1d30b94",
   "outputs": [],
   "execution_count": null
  },
  {
   "metadata": {},
   "cell_type": "code",
   "source": "energy_df_clean['North American Industry Classification System (NAICS)'].unique()",
   "id": "b518b7523e60086c",
   "outputs": [],
   "execution_count": null
  },
  {
   "metadata": {},
   "cell_type": "markdown",
   "source": "Possible to compute energy recipe (e.g. production/energy consumption) for iron, diamond, potash. For others, the co-production or by-production makes it difficult to know.",
   "id": "9567763e7219958c"
  },
  {
   "metadata": {},
   "cell_type": "code",
   "source": "",
   "id": "8dae4d9bb7c69397",
   "outputs": [],
   "execution_count": null
  }
 ],
 "metadata": {
  "kernelspec": {
   "display_name": "Python 3",
   "language": "python",
   "name": "python3"
  },
  "language_info": {
   "codemirror_mode": {
    "name": "ipython",
    "version": 2
   },
   "file_extension": ".py",
   "mimetype": "text/x-python",
   "name": "python",
   "nbconvert_exporter": "python",
   "pygments_lexer": "ipython2",
   "version": "2.7.6"
  }
 },
 "nbformat": 4,
 "nbformat_minor": 5
}
