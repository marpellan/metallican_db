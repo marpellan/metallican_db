{
 "cells": [
  {
   "cell_type": "code",
   "id": "b009817a-af34-4030-9d15-aa276816a628",
   "metadata": {},
   "source": [
    "import pandas as pd \n",
    "import plotly.graph_objects as go"
   ],
   "outputs": [],
   "execution_count": null
  },
  {
   "cell_type": "markdown",
   "id": "d5fe4f6f-cf3b-41f0-93bd-c344f98be970",
   "metadata": {},
   "source": "# With USGS data"
  },
  {
   "metadata": {},
   "cell_type": "markdown",
   "source": "They can be downloaded from [here](https://mrdata.usgs.gov/) and seen on this [map](https://mrdata.usgs.gov/general/map-global.html)",
   "id": "e617db66e9dfa4ff"
  },
  {
   "metadata": {},
   "cell_type": "markdown",
   "source": "## Major mineral deposits",
   "id": "44b2dadff2dfdf67"
  },
  {
   "metadata": {},
   "cell_type": "code",
   "source": "usgs_major = pd.read_csv(r'..\\data\\USGS\\Major mineral deposits of the world\\ofr20051294\\deposit.csv')",
   "id": "3e86ea7f5091d593",
   "outputs": [],
   "execution_count": null
  },
  {
   "metadata": {},
   "cell_type": "code",
   "source": "usgs_major",
   "id": "8b5b3b2f7f38b5b5",
   "outputs": [],
   "execution_count": null
  },
  {
   "metadata": {},
   "cell_type": "code",
   "source": [
    "# Grouping deposits by commodity and deposit type from 'deposit.csv'\n",
    "usgs_major_summary = usgs_major.groupby(['commodity', 'dep_type']).agg(count=('country', 'size'), countries=('country', lambda x: ', '.join(sorted(x.unique())))).reset_index()\n",
    "usgs_major_summary"
   ],
   "id": "acfab1f56802c979",
   "outputs": [],
   "execution_count": null
  },
  {
   "metadata": {},
   "cell_type": "markdown",
   "source": "## Global Critical Minerals dataset",
   "id": "da5f3c56fdcc01dd"
  },
  {
   "cell_type": "code",
   "id": "8e6c4173-cf6f-4296-8009-754b6fcd0868",
   "metadata": {},
   "source": "usgs_cm = pd.read_excel(r'../data/USGS/Global-critical-minerals-usgs.xlsx', sheet_name='pp1802_critmin_pts')",
   "outputs": [],
   "execution_count": null
  },
  {
   "cell_type": "code",
   "id": "b63fd2c61eb2133d",
   "metadata": {},
   "source": "usgs_cm",
   "outputs": [],
   "execution_count": null
  },
  {
   "metadata": {},
   "cell_type": "code",
   "source": [
    "# Grouping critical minerals by CRITICAL_M and DEPOSIT_TY from 'Global-critical-minerals-usgs.xlsx'\n",
    "usgs_cm_summary = usgs_cm.groupby(['CRITICAL_M', 'DEPOSIT_TY']).agg(count=('LOCATION', 'size'), countries=('LOCATION', lambda x: ', '.join(sorted(x.unique())))).reset_index()\n",
    "usgs_cm_summary"
   ],
   "id": "2de6716cfac9653e",
   "outputs": [],
   "execution_count": null
  },
  {
   "metadata": {},
   "cell_type": "code",
   "source": [
    "# Combine the two datasets into a single clean dataframe with the requested structure\n",
    "df_usgs = pd.concat([\n",
    "    usgs_major_summary.rename(columns={\n",
    "        'commodity': 'Commodity',\n",
    "        'dep_type': 'Deposit Type',\n",
    "        'count': 'Count',\n",
    "        'countries': 'Countries'\n",
    "    })[['Commodity', 'Deposit Type', 'Count', 'Countries']],\n",
    "    usgs_cm_summary.rename(columns={\n",
    "        'CRITICAL_M': 'Commodity',\n",
    "        'DEPOSIT_TY': 'Deposit Type',\n",
    "        'count': 'Count',\n",
    "        'countries': 'Countries'\n",
    "    })[['Commodity', 'Deposit Type', 'Count', 'Countries']]\n",
    "], ignore_index=True)"
   ],
   "id": "2e75f9f511cd87fd",
   "outputs": [],
   "execution_count": null
  },
  {
   "metadata": {},
   "cell_type": "code",
   "source": "df_usgs.to_csv(r'usgs_deposit_type_count_per_country.csv', index=False)",
   "id": "83784ef93833833d",
   "outputs": [],
   "execution_count": null
  },
  {
   "metadata": {},
   "cell_type": "code",
   "source": [
    "# Define pathway mapping specific to the USGS deposit types and commodities\n",
    "usgs_pathway_mapping = {\n",
    "    ('Aluminum', 'Hydrothermal'): 'Bauxite Pathway',\n",
    "    ('Aluminum', 'Igneous'): 'High-Alumina Clays Pathway',\n",
    "    ('Aluminum', 'Metamorphic'): 'High-Alumina Clays Pathway',\n",
    "    ('Aluminum', 'Sedimentary'): 'High-Alumina Clays Pathway',\n",
    "    ('Aluminum', 'Surficial'): 'Bauxite Pathway',\n",
    "    ('Copper', 'Hydrothermal'): 'Sulfide Ores (Pyrometallurgy)',\n",
    "    ('Copper', 'Igneous'): 'Sulfide Ores (Pyrometallurgy)',\n",
    "    ('Copper', 'Sedimentary'): 'Oxide Ores (Hydrometallurgy - SX-EW)',\n",
    "    ('Gold', 'Hydrothermal'): 'Free-Milling Ores',\n",
    "    ('Gold', 'Igneous'): 'Refractory Ores',\n",
    "    ('Gold', 'Metamorphic'): 'Refractory Ores',\n",
    "    ('Gold', 'Sedimentary'): 'Refractory Ores',\n",
    "    ('Nickel', 'Igneous'): 'Sulfide Ores (Pyrometallurgy)',\n",
    "    ('Nickel', 'Surficial'): 'Laterite Ores (Hydrometallurgy - HPAL)',\n",
    "    ('Titanium', 'Surficial'): 'Rutile Pathway (Chloride Process)',\n",
    "    ('Titanium', 'Igneous'): 'Ilmenite Pathway',\n",
    "    ('Uranium', 'Sedimentary'): 'Sandstone Deposits (ISR)',\n",
    "    ('Uranium', 'Igneous'): 'Hard Rock Deposits',\n",
    "}\n",
    "\n",
    "# Function to assign pathways for USGS data\n",
    "def assign_usgs_pathway(row):\n",
    "    key = (row['Commodity'], row['Deposit Type'])\n",
    "    return usgs_pathway_mapping.get(key, 'Unknown Pathway')\n",
    "\n",
    "# Apply the function to the dataset\n",
    "usgs_data['Mineral Pathway'] = usgs_data.apply(assign_usgs_pathway, axis=1)\n",
    "\n",
    "# Display the updated dataset for review\n",
    "tools.display_dataframe_to_user(name=\"USGS Data with Mineral Pathways\", dataframe=usgs_data)\n"
   ],
   "id": "aaecc33dd543286a",
   "outputs": [],
   "execution_count": null
  },
  {
   "metadata": {},
   "cell_type": "markdown",
   "source": "# With CMMI data",
   "id": "77d26388920fef6b"
  },
  {
   "metadata": {},
   "cell_type": "markdown",
   "source": "They can be seen and downloaded [here](https://portal.ga.gov.au/persona/cmmi)",
   "id": "67608501ab82a4dd"
  },
  {
   "metadata": {},
   "cell_type": "code",
   "source": "cmmi = pd.read_csv(r'../data/CMMI/CriticalMineralDepositsGeochemistry.csv')",
   "id": "f3e909a7b927c2ca",
   "outputs": [],
   "execution_count": null
  },
  {
   "metadata": {},
   "cell_type": "code",
   "source": "cmmi",
   "id": "ec4798052d1d5dcd",
   "outputs": [],
   "execution_count": null
  },
  {
   "metadata": {},
   "cell_type": "code",
   "source": [
    "# Filter relevant columns\n",
    "cmmi_relevant_columns = cmmi[['DEPOSIT_GROUP', 'DEPOSIT_TYPE', 'PRIMARY_COMMODITIES', 'SECONDARY_COMMODITIES', 'DEPOSIT_UID']]\n",
    "\n",
    "# Extract country codes from DEPOSIT_UID (first three letters, e.g., AUS)\n",
    "cmmi_relevant_columns['Country'] = cmmi_relevant_columns['DEPOSIT_UID'].str[:3]\n",
    "\n",
    "# Group by DEPOSIT_TYPE and PRIMARY_COMMODITIES\n",
    "cmmi_summary = (cmmi_relevant_columns.groupby(['DEPOSIT_GROUP', 'DEPOSIT_TYPE', 'PRIMARY_COMMODITIES']).agg(count=('Country', 'size'),  countries=('Country', lambda x: ', '.join(sorted(x.unique())))).reset_index())\n",
    "cmmi_summary"
   ],
   "id": "697785740c16167b",
   "outputs": [],
   "execution_count": null
  },
  {
   "metadata": {},
   "cell_type": "code",
   "source": "cmmi_summary.to_csv(r'cmms_deposit_type_count_per_country.csv', index=False)",
   "id": "7818b8824cf025d9",
   "outputs": [],
   "execution_count": null
  },
  {
   "metadata": {},
   "cell_type": "code",
   "source": [
    "# Define pathway mapping based on the provided template\n",
    "# This dictionary maps DEPOSIT_GROUP and PRIMARY_COMMODITIES to pathways\n",
    "pathway_mapping = {\n",
    "    ('Epithermal', 'Ag'): 'Free-Milling Ores (Gravity Separation, Cyanidation)',\n",
    "    ('Porphyry', 'Cu'): 'Sulfide Ores (Pyrometallurgy)',\n",
    "    ('Porphyry', 'Au'): 'Sulfide Ores (Pyrometallurgy)',\n",
    "    ('Orogenic', 'Ag'): 'Free-Milling Ores (Gravity Separation, Cyanidation)',\n",
    "    ('Laterite', 'Ni'): 'Laterite Ores (Hydrometallurgy - HPAL)',\n",
    "    ('Laterite', 'Co'): 'Laterite Ores (Hydrometallurgy - HPAL)',\n",
    "    ('Magmatic', 'Ni'): 'Sulfide Ores (Pyrometallurgy)',\n",
    "    ('Magmatic', 'Cu'): 'Sulfide Ores (Pyrometallurgy)',\n",
    "    ('Sedimentary', 'U'): 'Sandstone Deposits (ISR)',\n",
    "    ('Sedimentary', 'Cu'): 'Oxide Ores (Hydrometallurgy - SX-EW)',\n",
    "    ('Sedimentary', 'Co'): 'Oxide Ores (Hydrometallurgy - SX-EW)',\n",
    "    ('IOCG', 'Cu'): 'Sulfide Ores (Pyrometallurgy)',\n",
    "    ('IOCG', 'Au'): 'Sulfide Ores (Pyrometallurgy)',\n",
    "    ('Placer', 'Ti'): 'Rutile Pathway (Chloride Process)',\n",
    "    ('Placer', 'Zr'): 'Rutile Pathway (Chloride Process)',\n",
    "}\n",
    "\n",
    "# Function to assign pathways based on DEPOSIT_GROUP and PRIMARY_COMMODITIES\n",
    "def assign_mineral_pathway(row):\n",
    "    key = (row['DEPOSIT_GROUP'], row['PRIMARY_COMMODITIES'])\n",
    "    return pathway_mapping.get(key, 'Unknown Pathway')\n",
    "\n",
    "# Apply the function to the dataset\n",
    "cmmi_summary['Mineral Pathway'] = cmmi_summary.apply(assign_mineral_pathway, axis=1)\n"
   ],
   "id": "45cbdeedfe54ef8b",
   "outputs": [],
   "execution_count": null
  },
  {
   "metadata": {},
   "cell_type": "code",
   "source": "",
   "id": "775a8b561e91267a",
   "outputs": [],
   "execution_count": null
  },
  {
   "cell_type": "markdown",
   "id": "d2457efb-fdae-4c26-a42c-7a9e2e26c0a2",
   "metadata": {},
   "source": "# Visualisation"
  },
  {
   "cell_type": "code",
   "id": "89aa0281-acea-426b-8be9-599e468d2158",
   "metadata": {},
   "source": [
    "# Truncate deposit type names to the first 10 characters for readability\n",
    "data['DEPOSIT_TY'] = data['DEPOSIT_TY'].str[:10]  # Limit deposit type to 10 characters\n",
    "\n",
    "# Recreate nodes and links after truncation\n",
    "countries = data['LOCATION'].unique()\n",
    "minerals = data['CRITICAL_M'].unique()\n",
    "deposit_types = data['DEPOSIT_TY'].unique()\n",
    "\n",
    "nodes = list(countries) + list(minerals) + list(deposit_types)\n",
    "node_indices = {name: i for i, name in enumerate(nodes)}\n",
    "\n",
    "# Define the links with truncated deposit type labels\n",
    "links = {\n",
    "    'source': [],\n",
    "    'target': [],\n",
    "    'value': []\n",
    "}\n",
    "\n",
    "# Populate the links with truncated deposit types\n",
    "for _, row in data.iterrows():\n",
    "    country_idx = node_indices[row['LOCATION']]\n",
    "    mineral_idx = node_indices[row['CRITICAL_M']]\n",
    "    deposit_type_idx = node_indices[row['DEPOSIT_TY']]\n",
    "    \n",
    "    # Country to Mineral\n",
    "    links['source'].append(country_idx)\n",
    "    links['target'].append(mineral_idx)\n",
    "    links['value'].append(1)\n",
    "\n",
    "    # Mineral to Deposit Type\n",
    "    links['source'].append(mineral_idx)\n",
    "    links['target'].append(deposit_type_idx)\n",
    "    links['value'].append(1)"
   ],
   "outputs": [],
   "execution_count": null
  },
  {
   "cell_type": "code",
   "id": "f5a01db7-7a3f-4caf-9902-9f2ec59d8f3c",
   "metadata": {},
   "source": [
    "# Adjusting the color of the flows to light grey and text to a darker color for better readability\n",
    "fig = go.Figure(data=[go.Sankey(\n",
    "    node=dict(\n",
    "        pad=20,\n",
    "        thickness=20,\n",
    "        line=dict(color=\"black\", width=0.5),\n",
    "        label=nodes,\n",
    "        #color=\"darkblue\"  # Set nodes color to dark blue for contrast\n",
    "    ),\n",
    "    link=dict(\n",
    "        source=links['source'],\n",
    "        target=links['target'],\n",
    "        value=links['value'],\n",
    "        color=\"lightgrey\"  # Set flow color to light grey for readability\n",
    "    )\n",
    ")])\n",
    "\n",
    "# Update layout with larger dimensions and save as HTML\n",
    "fig.update_layout(\n",
    "    title_text=\"Country, Critical Minerals, and Deposit Types from USGS\",\n",
    "    font_size=14,\n",
    "    width=1600,\n",
    "    height=1000\n",
    ")\n",
    "\n",
    "# Save the updated figure as an HTML file for better visualization\n",
    "html_path_updated = 'results/sankey_deposits_world_usgs.html'\n",
    "fig.write_html(html_path_updated)\n",
    "\n",
    "html_path_updated"
   ],
   "outputs": [],
   "execution_count": null
  },
  {
   "cell_type": "markdown",
   "id": "979ed1b2-b834-42e8-8566-048724fdc7cd",
   "metadata": {},
   "source": [
    "## Canada"
   ]
  },
  {
   "cell_type": "code",
   "id": "125a457a-8ea4-4c77-bac8-614935d6214f",
   "metadata": {},
   "source": [
    "# Filter the data specifically for Canada\n",
    "canada_data = data[data['LOCATION'] == \"Canada\"]\n",
    "\n",
    "# Extract nodes for just minerals and deposit types for Canada\n",
    "minerals_canada = canada_data['CRITICAL_M'].unique()\n",
    "deposit_types_canada = canada_data['DEPOSIT_TY'].unique()\n",
    "\n",
    "# Create nodes for the Sankey diagram (minerals and deposit types)\n",
    "nodes_canada = list(minerals_canada) + list(deposit_types_canada)\n",
    "node_indices_canada = {name: i for i, name in enumerate(nodes_canada)}\n",
    "\n",
    "# Define the links for the Canada-specific Sankey diagram\n",
    "links_canada = {\n",
    "    'source': [],\n",
    "    'target': [],\n",
    "    'value': []\n",
    "}\n",
    "\n",
    "# Populate links between minerals and deposit types for Canada\n",
    "for _, row in canada_data.iterrows():\n",
    "    mineral_idx = node_indices_canada[row['CRITICAL_M']]\n",
    "    deposit_type_idx = node_indices_canada[row['DEPOSIT_TY']]\n",
    "\n",
    "    # Mineral to Deposit Type link\n",
    "    links_canada['source'].append(mineral_idx)\n",
    "    links_canada['target'].append(deposit_type_idx)\n",
    "    links_canada['value'].append(1)\n",
    "\n",
    "# Create the Canada-specific Sankey figure\n",
    "fig_canada = go.Figure(data=[go.Sankey(\n",
    "    node=dict(\n",
    "        pad=20,\n",
    "        thickness=20,\n",
    "        line=dict(color=\"black\", width=0.5),\n",
    "        label=nodes_canada,\n",
    "        #color=\"darkblue\"\n",
    "    ),\n",
    "    link=dict(\n",
    "        source=links_canada['source'],\n",
    "        target=links_canada['target'],\n",
    "        value=links_canada['value'],\n",
    "        color=\"lightgrey\"\n",
    "    )\n",
    ")])\n",
    "\n",
    "# Update layout and save as an HTML file for viewing\n",
    "fig_canada.update_layout(\n",
    "    title_text=\"Canada's Critical Minerals and Deposit Types (USGS)\",\n",
    "    font_size=18,\n",
    "    width=1600,\n",
    "    height=1000\n",
    ")\n",
    "\n",
    "# Save the figure as an HTML file for Canada-specific Sankey diagram\n",
    "html_path_canada = 'results/sankey_deposits_canada_usgs.html'\n",
    "fig_canada.write_html(html_path_canada)\n",
    "\n",
    "html_path_canada"
   ],
   "outputs": [],
   "execution_count": null
  }
 ],
 "metadata": {
  "kernelspec": {
   "display_name": "Python 3 (ipykernel)",
   "language": "python",
   "name": "python3"
  },
  "language_info": {
   "codemirror_mode": {
    "name": "ipython",
    "version": 3
   },
   "file_extension": ".py",
   "mimetype": "text/x-python",
   "name": "python",
   "nbconvert_exporter": "python",
   "pygments_lexer": "ipython3",
   "version": "3.12.7"
  }
 },
 "nbformat": 4,
 "nbformat_minor": 5
}
