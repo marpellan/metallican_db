{
 "cells": [
  {
   "cell_type": "code",
   "id": "initial_id",
   "metadata": {
    "collapsed": true,
    "ExecuteTime": {
     "end_time": "2025-04-01T00:57:28.558458Z",
     "start_time": "2025-04-01T00:57:28.552713Z"
    }
   },
   "source": "import bibtexparser",
   "outputs": [],
   "execution_count": 8
  },
  {
   "metadata": {
    "ExecuteTime": {
     "end_time": "2025-04-01T00:57:29.873989Z",
     "start_time": "2025-04-01T00:57:29.579405Z"
    }
   },
   "cell_type": "code",
   "source": [
    "# Load the .bib file\n",
    "with open(\"bib_file_310325.bib\") as bibtex_file:\n",
    "    bib_database = bibtexparser.load(bibtex_file)\n",
    "\n",
    "# Create a list of \\bibitem entries\n",
    "with open(\"bibitems.tex\", \"w\") as output_file:\n",
    "    for entry in bib_database.entries:\n",
    "        citation_key = entry.get('ID', 'unknown')\n",
    "        author = entry.get('author', 'Unknown Author')\n",
    "        title = entry.get('title', 'No Title')\n",
    "        journal = entry.get('journal', '')\n",
    "        volume = entry.get('volume', '')\n",
    "        pages = entry.get('pages', '')\n",
    "        year = entry.get('year', '')\n",
    "        doi = entry.get('doi', '')\n",
    "        url = entry.get('url', '')\n",
    "        publisher = entry.get('publisher', '')\n",
    "\n",
    "        # Check if it's a dataset or online material\n",
    "        if 'dataset' in entry.get('ENTRYTYPE', '').lower() or 'misc' in entry.get('ENTRYTYPE', '').lower():\n",
    "            if url:\n",
    "                # Format dataset or online material reference\n",
    "                bibitem = f\"\\\\bibitem{{{citation_key}}} {author if author != 'Unknown Author' else ''} {title}. {publisher if publisher else 'Data repository'} {url} ({year}).\\n\"\n",
    "            elif doi:\n",
    "                # Dataset with DOI\n",
    "                bibitem = f\"\\\\bibitem{{{citation_key}}} {author if author != 'Unknown Author' else ''} {title}. {publisher if publisher else 'Data repository'} https://doi.org/{doi} ({year}).\\n\"\n",
    "            else:\n",
    "                bibitem = f\"\\\\bibitem{{{citation_key}}} {author if author != 'Unknown Author' else ''} {title}. {publisher if publisher else 'Data repository'} ({year}).\\n\"\n",
    "        else:\n",
    "            # Format standard article reference\n",
    "            bibitem = f\"\\\\bibitem{{{citation_key}}} {author}. {title}. \\\\textit{{{journal}}} {volume}, {pages} ({year}).\"\n",
    "            if doi:\n",
    "                bibitem += f\" DOI: \\\\url{{https://doi.org/{doi}}}.\"\n",
    "        \n",
    "        bibitem += \"\\n\"\n",
    "        output_file.write(bibitem)\n",
    "\n",
    "print(\"Bibitem entries have been saved to bibitems.tex\")\n"
   ],
   "id": "99ef2c49a6427e43",
   "outputs": [
    {
     "name": "stdout",
     "output_type": "stream",
     "text": [
      "Bibitem entries have been saved to bibitems.tex\n"
     ]
    }
   ],
   "execution_count": 9
  },
  {
   "metadata": {},
   "cell_type": "code",
   "outputs": [],
   "execution_count": null,
   "source": "",
   "id": "5e0bed94e0fe5ddf"
  }
 ],
 "metadata": {
  "kernelspec": {
   "display_name": "Python 3",
   "language": "python",
   "name": "python3"
  },
  "language_info": {
   "codemirror_mode": {
    "name": "ipython",
    "version": 2
   },
   "file_extension": ".py",
   "mimetype": "text/x-python",
   "name": "python",
   "nbconvert_exporter": "python",
   "pygments_lexer": "ipython2",
   "version": "2.7.6"
  }
 },
 "nbformat": 4,
 "nbformat_minor": 5
}
