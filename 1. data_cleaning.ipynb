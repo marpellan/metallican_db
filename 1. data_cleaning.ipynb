{
 "cells": [
  {
   "cell_type": "code",
   "id": "initial_id",
   "metadata": {
    "collapsed": true
   },
   "source": [
    "import pandas as pd\n",
    "import geopandas as gpd\n",
    "import matplotlib.pyplot as plt\n",
    "import seaborn as sns"
   ],
   "outputs": [],
   "execution_count": null
  },
  {
   "metadata": {},
   "cell_type": "markdown",
   "source": "# Import ",
   "id": "c9a98c04f04784e5"
  },
  {
   "metadata": {},
   "cell_type": "code",
   "source": [
    "# NRCan datasets\n",
    "nrcan_mining_df = pd.read_excel(\n",
    "    r'data/NRCan/Principal Mineral Areas, Producing Mines, and Oil and Gas Fields (900A)/producing_mines.xlsx')\n",
    "nrcan_manufacturing_df = pd.read_excel(\n",
    "    r'data/NRCan/Principal Mineral Areas, Producing Mines, and Oil and Gas Fields (900A)/metal_work.xlsx')\n",
    "nrcan_critical_df = pd.read_excel(\n",
    "    r'data/NRCan/Critical minerals advanced projects, mines and processing facilities in Canada/Critical minerals advanced projects, mines and processing facilities.xlsx'\n",
    ")"
   ],
   "id": "aa71a89e5fe370a0",
   "outputs": [],
   "execution_count": null
  },
  {
   "metadata": {},
   "cell_type": "code",
   "source": [
    "# MinCan datasets\n",
    "min_can_df = pd.read_excel(\n",
    "    r'data/Sources/MinCan _Past and Present Productive Mines of Canada, 1950-2022_March2024.xlsx', \n",
    "    sheet_name='Data')"
   ],
   "id": "a2c6332d7f1187f7",
   "outputs": [],
   "execution_count": null
  },
  {
   "metadata": {},
   "cell_type": "code",
   "source": [
    "# NPRI datasets\n",
    "npri_df = pd.read_excel(\n",
    "    r'data/Emissions_accounts/Raw_data/NPRI/NPRI-INRP_DataDonnées_2023.xlsx', \n",
    "    sheet_name='INRP-NPRI 2023', \n",
    "    skiprows=3)"
   ],
   "id": "28eb357c792f7a08",
   "outputs": [],
   "execution_count": null
  },
  {
   "metadata": {},
   "cell_type": "code",
   "source": [
    "# GHG from large facilities datasets\n",
    "ghg_facility_df = pd.read_csv(\n",
    "    r'data/Emissions_accounts/Raw_data/GHG_large_facilities/Greenhouse gas emissions from large facilities.csv',\n",
    "    encoding='ISO-8859-1')"
   ],
   "id": "25c9e8bf6e7b164d",
   "outputs": [],
   "execution_count": null
  },
  {
   "metadata": {},
   "cell_type": "code",
   "source": [
    "# SUT energy datasets \n",
    "sut_df = pd.read_csv(\n",
    "    r'data/Emissions_accounts/Raw_data/Mining industries, energy consumption by NAICS - 16100029-eng/16100029.csv'\n",
    ") "
   ],
   "id": "6d85cede509e9b2e",
   "outputs": [],
   "execution_count": null
  },
  {
   "metadata": {},
   "cell_type": "code",
   "source": [
    "# Tailings DB \n",
    "tailings_df = pd.read_excel(\n",
    "    r'data/Sources/WAPHA_global_metal_mines_database/GTD_Single_Table 4.0_March-2021.xlsx',\n",
    "    skiprows=2\n",
    ")\n",
    "tailings_df = tailings_df[tailings_df['country'] == 'Canada']\n",
    "tailings_df"
   ],
   "id": "c925f8bcf724bd48",
   "outputs": [],
   "execution_count": null
  },
  {
   "metadata": {},
   "cell_type": "code",
   "source": [
    "# Climate Trace Canada datasets \n",
    "##Sources\n",
    "ctrace_copper = pd.read_csv(r'data/Sources/ClimateTRACE/CAN/DATA/mineral_extraction/copper-mining_emissions_sources.csv')\n",
    "ctrace_iron = pd.read_csv(r'data/Sources/ClimateTRACE/CAN/DATA/mineral_extraction/iron-mining_emissions_sources.csv')\n",
    "## Confidence\n",
    "ctrace_copper_confidence = pd.read_csv(r'data/Sources/ClimateTRACE/CAN/DATA/mineral_extraction/copper-mining_emissions_sources_confidence.csv')\n",
    "ctrace_iron_confidence = pd.read_csv(r'data/Sources/ClimateTRACE/CAN/DATA/mineral_extraction/iron-mining_emissions_sources_confidence.csv')\n",
    "## Ownership\n",
    "ctrace_copper_ownership = pd.read_csv(r'data/Sources/ClimateTRACE/CAN/DATA/mineral_extraction/copper-mining_emissions_sources_ownership.csv')\n",
    "ctrace_iron_ownership = pd.read_csv(r'data/Sources/ClimateTRACE/CAN/DATA/mineral_extraction/iron-mining_emissions_sources_ownership.csv')\n",
    "\n",
    "## GPKG file for all mineral extraction worldwide\n",
    "ctrace_gdf = gpd.read_file(\n",
    "    \"data/Sources/ClimateTRACE/mineral_extraction/DATA/mineral-extraction_geometries.gpkg\")\n"
   ],
   "id": "c567e90a0f2ec8fa",
   "outputs": [],
   "execution_count": null
  },
  {
   "metadata": {},
   "cell_type": "markdown",
   "source": "# Clean",
   "id": "a320d6bb7474a4fb"
  },
  {
   "metadata": {},
   "cell_type": "markdown",
   "source": "## NRCan",
   "id": "555e95ac1bbafe6e"
  },
  {
   "metadata": {},
   "cell_type": "code",
   "source": "from db_creation_data_cleaning import plot_commodity_distribution",
   "id": "9fee43745d87808a",
   "outputs": [],
   "execution_count": null
  },
  {
   "metadata": {},
   "cell_type": "code",
   "source": [
    "plot_commodity_distribution(nrcan_mining_df, \"COM_DESC_E\", \"COM_GROU_E\", \"Producing Mines\")\n",
    "plot_commodity_distribution(nrcan_manufacturing_df, \"COM_DESC_E\", \"COM_GROU_E\", \"Metal Works\")"
   ],
   "id": "2a3e8c7495310719",
   "outputs": [],
   "execution_count": null
  },
  {
   "metadata": {},
   "cell_type": "code",
   "source": [
    "# We can drop all industrial minerals from the mining dataset\n",
    "nrcan_mining_df = nrcan_mining_df[nrcan_mining_df[\"COM_GROU_E\"] != \"Industrial minerals\"]"
   ],
   "id": "33c95a8c0f317d6a",
   "outputs": [],
   "execution_count": null
  },
  {
   "metadata": {},
   "cell_type": "code",
   "source": "nrcan_mining_df",
   "id": "d57ab76b93b93ce",
   "outputs": [],
   "execution_count": null
  },
  {
   "metadata": {},
   "cell_type": "code",
   "source": [
    "def plot_owner_occurrences(df, dataset_name=None, column=None):\n",
    "    \"\"\"\n",
    "    Plots the number of occurrences of each unique value in the specified column.\n",
    "\n",
    "    Parameters:\n",
    "    - df (pd.DataFrame): The input DataFrame.\n",
    "    - column (str): The column to count unique occurrences for \n",
    "    - title (str): The title of the plot.\n",
    "\n",
    "    Returns:\n",
    "    - None (displays a bar plot).\n",
    "    \"\"\"\n",
    "    # Count occurrences of each unique value\n",
    "    owner_counts = df[column].value_counts()\n",
    "    \n",
    "    # Truncate long names for display (max 20 characters)\n",
    "    truncated_labels = [name[:20] + \"…\" if len(name) > 20 else name for name in owner_counts.index]\n",
    "\n",
    "\n",
    "    # Plot the data\n",
    "    fig, ax = plt.subplots(figsize=(12, 6))\n",
    "    owner_counts.plot(kind=\"bar\", ax=ax)\n",
    "    plt.xlabel(\"Company Name\")\n",
    "    plt.ylabel(\"Number of Occurrences\")\n",
    "    plt.title(f\"Owner occurrences in {dataset_name}\")\n",
    "    plt.xticks(ticks=range(len(truncated_labels)), labels=truncated_labels, rotation=90, ha=\"right\", fontsize=6)\n",
    "    plt.show()"
   ],
   "id": "429a686c62eaabc9",
   "outputs": [],
   "execution_count": null
  },
  {
   "metadata": {},
   "cell_type": "code",
   "source": "plot_owner_occurrences(nrcan_mining_df, dataset_name='Facility table', column='OWNER_E')\n",
   "id": "8773c1b2e9f75311",
   "outputs": [],
   "execution_count": null
  },
  {
   "metadata": {},
   "cell_type": "code",
   "source": "nrcan_mining_df",
   "id": "ffa6197014c70d07",
   "outputs": [],
   "execution_count": null
  },
  {
   "metadata": {},
   "cell_type": "markdown",
   "source": "## MinCan",
   "id": "c3af15d24338e143"
  },
  {
   "metadata": {},
   "cell_type": "code",
   "source": "from db_creation_data_cleaning import is_mine_active",
   "id": "c601466692821705",
   "outputs": [],
   "execution_count": null
  },
  {
   "metadata": {},
   "cell_type": "code",
   "source": [
    "# Apply the function to create a new column 'mine_status'\n",
    "min_can_df['mine_status'] = min_can_df.apply(is_mine_active, axis=1)"
   ],
   "id": "dcef97747b88247",
   "outputs": [],
   "execution_count": null
  },
  {
   "metadata": {},
   "cell_type": "code",
   "source": "min_can_df",
   "id": "f880a52c50ba3584",
   "outputs": [],
   "execution_count": null
  },
  {
   "metadata": {},
   "cell_type": "code",
   "source": [
    "def plot_mine_status(df):\n",
    "    \"\"\"\n",
    "    Plots two figures:\n",
    "    1. Mine openings and closures over time, with active mine count.\n",
    "    2. Current active vs. inactive mines as a pie chart.\n",
    "    \n",
    "    Parameters:\n",
    "    df (pd.DataFrame): DataFrame containing columns 'open1', 'close1', 'open2', 'close2', 'open3', 'close3', and 'mine_status'.\n",
    "    \"\"\"\n",
    "\n",
    "    # Extract relevant columns related to opening and closing years\n",
    "    open_close_columns = ['open1', 'close1', 'open2', 'close2', 'open3', 'close3']\n",
    "    \n",
    "    # Convert columns to numeric, handling non-numeric values (like 'open')\n",
    "    df_filtered = df[open_close_columns].apply(pd.to_numeric, errors='coerce')\n",
    "\n",
    "    # Reshape data into long format\n",
    "    df_melted = df_filtered.melt(value_name='year', var_name='event').dropna()\n",
    "\n",
    "    # Determine whether the event is an opening (+1) or closing (-1)\n",
    "    df_melted['count'] = df_melted['event'].apply(lambda x: 1 if 'open' in x else -1)\n",
    "\n",
    "    # Aggregate counts per year\n",
    "    df_yearly = df_melted.groupby('year')['count'].sum().reset_index()\n",
    "\n",
    "    # Compute cumulative sum for active mines\n",
    "    df_yearly['active_mines'] = df_yearly['count'].cumsum()\n",
    "\n",
    "    # --- Figure 1: Mine Openings and Closures Over Time ---\n",
    "    fig, ax1 = plt.subplots(figsize=(10, 5))\n",
    "    ax1.bar(df_yearly['year'], df_yearly['count'], color=['green' if x > 0 else 'red' for x in df_yearly['count']], label=\"Openings/Closures\")\n",
    "    ax1.set_xlabel(\"Year\")\n",
    "    ax1.set_ylabel(\"Number of Openings (+) / Closures (-)\")\n",
    "    ax1.axhline(0, color='black', linewidth=0.8)\n",
    "    ax1.legend(loc=\"upper left\")\n",
    "\n",
    "    # --- Figure 2: Current Active vs. Inactive Mines ---\n",
    "    mine_status_counts = df['mine_status'].value_counts()\n",
    "\n",
    "    plt.figure(figsize=(6, 6))\n",
    "    plt.pie(mine_status_counts, labels=mine_status_counts.index, autopct='%1.1f%%', colors=['green', 'red'])\n",
    "    plt.title(\"Current Active vs. Inactive Mines\")\n",
    "    plt.show()\n"
   ],
   "id": "991204f88f39b7b7",
   "outputs": [],
   "execution_count": null
  },
  {
   "metadata": {},
   "cell_type": "code",
   "source": [
    "# Apply function to the dataset\n",
    "plot_mine_status(min_can_df)"
   ],
   "id": "e00a9eb104609ef3",
   "outputs": [],
   "execution_count": null
  },
  {
   "metadata": {},
   "cell_type": "markdown",
   "source": "## GHG facility",
   "id": "fb5b9f1fc598dbd0"
  },
  {
   "metadata": {},
   "cell_type": "code",
   "source": "from constants import metal_ore_mining_naics, metal_manufacturing_naics",
   "id": "7bd6e17e3c8e1b6a",
   "outputs": [],
   "execution_count": null
  },
  {
   "metadata": {},
   "cell_type": "code",
   "source": "from db_creation_data_cleaning import filter_ghg_facility_naics",
   "id": "9f4a9f1e5ecf9c93",
   "outputs": [],
   "execution_count": null
  },
  {
   "metadata": {},
   "cell_type": "code",
   "source": [
    "ghg_facility_metal_mining_df = filter_ghg_facility_naics(ghg_facility_df, metal_ore_mining_naics)\n",
    "ghg_facility_metal_manufacturing_df = filter_ghg_facility_naics(ghg_facility_df, metal_manufacturing_naics)"
   ],
   "id": "3d6a7e02d6668649",
   "outputs": [],
   "execution_count": null
  },
  {
   "metadata": {},
   "cell_type": "code",
   "source": "ghg_facility_metal_mining_df",
   "id": "c1b46fe3708b4411",
   "outputs": [],
   "execution_count": null
  },
  {
   "metadata": {},
   "cell_type": "markdown",
   "source": "## NPRI",
   "id": "d4603ebe979664f6"
  },
  {
   "metadata": {},
   "cell_type": "code",
   "source": [
    "def clean_npri(excel_path: str,\n",
    "               sheet_name_data: str = \"INRP-NPRI 2023\",\n",
    "               sheet_name_mapping: str = \"mapping_emissions\") -> pd.DataFrame:\n",
    "    \"\"\"\n",
    "    Extracts SQL-friendly long-format NPRI data using a structured mapping.\n",
    "\n",
    "    - Loads data with skiprows=3 to get clean metadata.\n",
    "    - Renames emission columns using Emission_type + Sub_emission_type_EN.\n",
    "    - Melts emission columns into long format.\n",
    "    - Keeps all metadata columns untouched.\n",
    "    - Removes rows where value is NaN or zero.\n",
    "\n",
    "    Args:\n",
    "        excel_path (str): Path to the Excel file.\n",
    "        sheet_name_data (str): Sheet with the NPRI data.\n",
    "        sheet_name_mapping (str): Sheet with emission column metadata.\n",
    "\n",
    "    Returns:\n",
    "        pd.DataFrame: SQL-ready long-format DataFrame.\n",
    "    \"\"\"\n",
    "\n",
    "    # Step 1: Load the emission column mapping\n",
    "    mapping_df = pd.read_excel(excel_path, sheet_name=sheet_name_mapping)\n",
    "    mapping_df[\"Emission_type\"] = mapping_df[\"Emission_type\"].fillna(method=\"ffill\")\n",
    "    mapping_df[\"unique_column_name\"] = (\n",
    "        mapping_df[\"Emission_type\"].str.strip() + \" - \" + mapping_df[\"Sub_emission_type_EN\"].str.strip()\n",
    "    )\n",
    "\n",
    "    # Step 2: Load the NPRI data with clean headers\n",
    "    df = pd.read_excel(excel_path, sheet_name=sheet_name_data, skiprows=3)\n",
    "\n",
    "    # Step 3: Identify emission columns (based on the mapping length)\n",
    "    n_emission_cols = len(mapping_df)\n",
    "    emission_cols = df.columns[-n_emission_cols:]\n",
    "\n",
    "    # Step 4: Rename only emission columns\n",
    "    rename_map = dict(zip(emission_cols, mapping_df[\"unique_column_name\"]))\n",
    "    df_renamed = df.rename(columns=rename_map)\n",
    "\n",
    "    # Step 5: Melt the emission columns\n",
    "    id_vars = [col for col in df.columns if col not in emission_cols]\n",
    "    melted = df_renamed.melt(id_vars=id_vars,\n",
    "                             value_vars=rename_map.values(),\n",
    "                             var_name=\"full_emission_column\",\n",
    "                             value_name=\"value\")\n",
    "\n",
    "    # Step 6: Split into emission_type and emission_subtype\n",
    "    melted[[\"emission_type\", \"emission_subtype\"]] = melted[\"full_emission_column\"].str.split(\" - \", n=1, expand=True)\n",
    "\n",
    "    # Step 7: Remove NaNs and zeros\n",
    "    melted = melted.dropna(subset=[\"value\"])\n",
    "    melted = melted[melted[\"value\"] != 0]\n",
    "\n",
    "    return melted.drop(columns=[\"full_emission_column\"])"
   ],
   "id": "c0e67af0c307c095",
   "outputs": [],
   "execution_count": null
  },
  {
   "metadata": {},
   "cell_type": "code",
   "source": "from db_creation_data_cleaning import clean_npri",
   "id": "ebff640b93ff5890",
   "outputs": [],
   "execution_count": null
  },
  {
   "metadata": {},
   "cell_type": "code",
   "source": "npri_df = clean_npri(\"data/Emissions_accounts/Raw_data/NPRI/NPRI-INRP_DataDonnées_2023.xlsx\")",
   "id": "5d9b447db853ce03",
   "outputs": [],
   "execution_count": null
  },
  {
   "metadata": {},
   "cell_type": "code",
   "source": "npri_df",
   "id": "fdec76f9b079857f",
   "outputs": [],
   "execution_count": null
  },
  {
   "metadata": {},
   "cell_type": "code",
   "source": [
    "# Create mapping NPRI-EI through IW+ mapping\n",
    "# Import existing concordances \n",
    "mapping_npri_iw = pd.read_excel(r'data/Concordances/openIO_IW_EI_concordance.xlsx', sheet_name='NPRI_to_IW21')\n",
    "mapping_ei_iw = pd.read_excel(r'data/Concordances/openIO_IW_EI_concordance.xlsx', sheet_name='EI_to_IW+')"
   ],
   "id": "465d8b155b55b317",
   "outputs": [],
   "execution_count": null
  },
  {
   "metadata": {},
   "cell_type": "code",
   "source": [
    "# Standardize column names for merging\n",
    "mapping_npri_iw.rename(columns={'IMPACT World+ flows': 'iw_name'}, inplace=True)\n",
    "mapping_ei_iw.rename(columns={'iw name': 'iw_name'}, inplace=True)"
   ],
   "id": "ec9b863fc9433007",
   "outputs": [],
   "execution_count": null
  },
  {
   "metadata": {},
   "cell_type": "code",
   "source": [
    "# Add the 'EI' column to df_npri_iw based on matching iw_name with df_ei_iw\n",
    "mapping_npri_iw['EI'] = mapping_npri_iw['iw_name'].map(\n",
    "    lambda iw: mapping_ei_iw[mapping_ei_iw['iw_name'] == iw]['ecoinvent name'].iloc[0]\n",
    "    if iw in mapping_ei_iw['iw_name'].values else 'No match found'\n",
    ")\n"
   ],
   "id": "33b3636cdcddd314",
   "outputs": [],
   "execution_count": null
  },
  {
   "metadata": {},
   "cell_type": "code",
   "source": "mapping_npri_iw",
   "id": "5c61a8a34768f069",
   "outputs": [],
   "execution_count": null
  },
  {
   "metadata": {},
   "cell_type": "code",
   "source": [
    "# We need to rename it to merge it to NPRI data\n",
    "mapping_npri_iw.rename(columns={'OpenIO flows': 'Substance Name (English)'}, inplace=True)"
   ],
   "id": "e91c24b03351cc68",
   "outputs": [],
   "execution_count": null
  },
  {
   "metadata": {},
   "cell_type": "code",
   "source": [
    "# We add the Ecoinvent name based on the mapping \n",
    "npri_df = npri_df.merge(mapping_npri_iw[['Substance Name (English)', 'EI']],\n",
    "              on='Substance Name (English)',\n",
    "              how='left')"
   ],
   "id": "82382bc251a06cd8",
   "outputs": [],
   "execution_count": null
  },
  {
   "metadata": {},
   "cell_type": "code",
   "source": "npri_df",
   "id": "1f4933c6dec5839a",
   "outputs": [],
   "execution_count": null
  },
  {
   "metadata": {},
   "cell_type": "code",
   "source": [
    "# Removing French names \n",
    "npri_df = npri_df.drop(columns=['Terrestrial Ecozone (French)', 'Watershed (French)', \n",
    "                                'NAICS 4 Sector Name (French)', 'NAICS 6 Sector Name (French)', 'Substance Name (French)'    ])"
   ],
   "id": "56e79fcbcd9f867b",
   "outputs": [],
   "execution_count": null
  },
  {
   "metadata": {},
   "cell_type": "code",
   "source": "npri_df",
   "id": "a1b33de50bbe6221",
   "outputs": [],
   "execution_count": null
  },
  {
   "metadata": {},
   "cell_type": "code",
   "source": [
    "npri_metal_mining_df = npri_df[npri_df[\"NAICS 4 Sector Name (English)\"] == \"Metal ore mining\"]\n",
    "npri_metal_manufacturing_df = npri_df[npri_df[\"NAICS 4 Code\"].astype(str).str[:3] == \"331\"]"
   ],
   "id": "7856de7f7b4b799c",
   "outputs": [],
   "execution_count": null
  },
  {
   "metadata": {},
   "cell_type": "markdown",
   "source": "## SUT ",
   "id": "39cb3cf76c6fe2dd"
  },
  {
   "metadata": {},
   "cell_type": "code",
   "source": "from db_creation_data_cleaning import clean_sut",
   "id": "d1badf0dbcadfc0b",
   "outputs": [],
   "execution_count": null
  },
  {
   "metadata": {},
   "cell_type": "code",
   "source": [
    "sut_df_cleaned = clean_sut(sut_df, year=2022, units_to_exclude=[\"Thousands of dollars\"])\n",
    "sut_df_cleaned"
   ],
   "id": "2c39ec15f4278a73",
   "outputs": [],
   "execution_count": null
  },
  {
   "metadata": {},
   "cell_type": "code",
   "source": "sut_df_cleaned['North American Industry Classification System (NAICS)'].value_counts()",
   "id": "1145b89a9553bcb4",
   "outputs": [],
   "execution_count": null
  },
  {
   "metadata": {},
   "cell_type": "code",
   "source": "from db_creation_data_cleaning import split_by_naics",
   "id": "3ec9fb9dd2eb9a17",
   "outputs": [],
   "execution_count": null
  },
  {
   "metadata": {},
   "cell_type": "code",
   "source": [
    "# Apply the function to the cleaned DataFrame\n",
    "naics_dfs = split_by_naics(sut_df_cleaned)\n",
    "\n",
    "# Access a specific NAICS DataFrame\n",
    "uranium_mining_df = naics_dfs['Uranium ore mining [212291]']"
   ],
   "id": "d8181f4626d0ab73",
   "outputs": [],
   "execution_count": null
  },
  {
   "metadata": {},
   "cell_type": "markdown",
   "source": "### Climate TRACE",
   "id": "d3739cafeec7c5d1"
  },
  {
   "metadata": {},
   "cell_type": "code",
   "source": [
    "ctrace = pd.concat([ctrace_copper, ctrace_iron])\n",
    "ctrace_confidence = pd.concat([ctrace_copper_confidence, ctrace_iron_confidence])\n",
    "ctrace_copper_ownership = pd.concat([ctrace_copper_ownership, ctrace_iron_ownership])"
   ],
   "id": "38d9542cffc6b98b",
   "outputs": [],
   "execution_count": null
  },
  {
   "metadata": {},
   "cell_type": "code",
   "source": [
    "def plot_categorical_distributions(df, columns_of_interest, layout=(2, 3), save_path=None):\n",
    "    \"\"\"\n",
    "    Plots pie charts for categorical distributions in a given DataFrame.\n",
    "\n",
    "    Parameters:\n",
    "        df (pd.DataFrame): The DataFrame containing the data.\n",
    "        columns_of_interest (list): List of categorical columns to visualize.\n",
    "        layout (tuple): Layout of the subplots (rows, cols).\n",
    "        save_path (str, optional): Path to save the image. If None, it is not saved.\n",
    "    \"\"\"\n",
    "    import matplotlib.pyplot as plt\n",
    "    \n",
    "    # Define color map to ensure consistency across plots\n",
    "    unique_categories = set()\n",
    "    for col in columns_of_interest:\n",
    "        unique_categories.update(df[col].dropna().unique())\n",
    "\n",
    "    color_map = plt.get_cmap(\"tab10\")  # Use tab10 colormap for distinct colors\n",
    "    colors = {cat: color_map(i % 10) for i, cat in enumerate(sorted(unique_categories))}\n",
    "\n",
    "    # Create subplots\n",
    "    fig, axes = plt.subplots(layout[0], layout[1], figsize=(layout[1] * 5, layout[0] * 5))\n",
    "    axes = axes.flatten()  # Flatten to 1D array for easy indexing\n",
    "\n",
    "    for i, col in enumerate(columns_of_interest):\n",
    "        if i >= len(axes):  # Stop if more columns than subplots\n",
    "            break\n",
    "        \n",
    "        ax = axes[i]\n",
    "        counts = df[col].value_counts(normalize=True) * 100\n",
    "        colors_list = [colors[cat] for cat in counts.index]  # Ensure consistent color coding\n",
    "\n",
    "        counts.plot(kind=\"pie\", autopct=\"%1.1f%%\", startangle=140, colors=colors_list, ax=ax)\n",
    "        ax.set_title(f\"Distribution of {col}\")\n",
    "        ax.set_ylabel(\"\")  # Hide y-axis label for clarity\n",
    "\n",
    "    # Hide any unused subplots\n",
    "    for j in range(i + 1, len(axes)):\n",
    "        fig.delaxes(axes[j])\n",
    "\n",
    "    plt.tight_layout()\n",
    "    \n",
    "    # Save if path is provided\n",
    "    if save_path:\n",
    "        plt.savefig(save_path, dpi=300)\n",
    "    \n",
    "    plt.show()"
   ],
   "id": "77b5f872321e3923",
   "outputs": [],
   "execution_count": null
  },
  {
   "metadata": {},
   "cell_type": "code",
   "source": [
    "def compute_annual_figures(df, date_column, columns_to_sum, metadata_columns):\n",
    "    \"\"\"\n",
    "    Aggregates the sum of selected columns by year while keeping relevant metadata.\n",
    "\n",
    "    Parameters:\n",
    "        df (pd.DataFrame): The DataFrame containing the data.\n",
    "        date_column (str): The name of the column containing datetime values.\n",
    "        columns_to_sum (list): List of column names to aggregate by year.\n",
    "        metadata_columns (list): List of metadata columns to keep.\n",
    "\n",
    "    Returns:\n",
    "        pd.DataFrame: A DataFrame with annual sums and relevant metadata.\n",
    "    \"\"\"\n",
    "    \n",
    "    # Ensure date column is in datetime format\n",
    "    df[date_column] = pd.to_datetime(df[date_column], errors=\"coerce\")\n",
    "\n",
    "    # Extract year from the date column\n",
    "    df[\"year\"] = df[date_column].dt.year  \n",
    "    \n",
    "    # Group by year and relevant metadata, summing numerical columns\n",
    "    annual_sums = df.groupby([\"year\"] + metadata_columns, as_index=False)[columns_to_sum].sum()\n",
    "    \n",
    "    return annual_sums"
   ],
   "id": "81b02263946623db",
   "outputs": [],
   "execution_count": null
  },
  {
   "metadata": {},
   "cell_type": "code",
   "source": [
    "def plot_subsector_breakdown_stacked(df, subsector_column, subsector_value, year_column, breakdown_columns, value_columns, save_path=None):\n",
    "    \"\"\"\n",
    "    Plots stacked bar charts for emissions, activity, and capacity for a specific subsector per year,\n",
    "    categorized by specified breakdown columns.\n",
    "\n",
    "    Parameters:\n",
    "        df (pd.DataFrame): The dataset containing relevant data.\n",
    "        subsector_column (str): Column representing the subsector.\n",
    "        subsector_value (str): The specific subsector to filter for visualization.\n",
    "        year_column (str): Column representing the year.\n",
    "        breakdown_columns (list): List of categorical columns used for breakdown (e.g., 'other1', 'other2').\n",
    "        value_columns (list): List of numerical columns to visualize (e.g., emissions, activity, capacity).\n",
    "        save_path (str, optional): Path to save the image. If None, it is not saved.\n",
    "    \"\"\"\n",
    "    import matplotlib.pyplot as plt\n",
    "    \n",
    "    # Filter data for the selected subsector\n",
    "    df_filtered = df[df[subsector_column] == subsector_value]\n",
    "    \n",
    "    # Group data by year and breakdown columns, summing numerical values\n",
    "    grouped_df = df_filtered.groupby([year_column] + breakdown_columns, as_index=False)[value_columns].sum()\n",
    "\n",
    "    # Define figure layout\n",
    "    fig, axes = plt.subplots(3, 1, figsize=(12, 15))  # 3 rows, 1 column\n",
    "    colors = plt.get_cmap(\"tab10\")  # Consistent color scheme\n",
    "\n",
    "    # Create stacked bar plots for each value column\n",
    "    for i, value_col in enumerate(value_columns):\n",
    "        pivot_df = grouped_df.pivot(index=year_column, columns=breakdown_columns[0], values=value_col)\n",
    "        pivot_df.plot(kind=\"bar\", stacked=True, ax=axes[i], colormap=colors)\n",
    "        \n",
    "        axes[i].set_title(f\"{value_col} Breakdown for {subsector_value}\")\n",
    "        axes[i].set_xlabel(\"Year\")\n",
    "        axes[i].set_ylabel(value_col)\n",
    "        axes[i].legend(title=breakdown_columns[0])\n",
    "        axes[i].tick_params(axis='x', rotation=45)\n",
    "\n",
    "    plt.tight_layout()\n",
    "\n",
    "    # Save the figure if a path is provided\n",
    "    if save_path:\n",
    "        plt.savefig(save_path, dpi=300, bbox_inches=\"tight\")\n",
    "\n",
    "    plt.show()"
   ],
   "id": "40039956e9456686",
   "outputs": [],
   "execution_count": null
  },
  {
   "metadata": {},
   "cell_type": "code",
   "source": [
    "plot_categorical_distributions(\n",
    "    ctrace_confidence, \n",
    "    columns_of_interest=[\"source_type\", \"capacity\", \"capacity_factor\", \"activity\", \"emissions_factor\", \"emissions_quantity\"], \n",
    "    layout=(2, 3), \n",
    "    save_path=\"results/ctrace_confidence.png\")"
   ],
   "id": "7044df6a7f67630",
   "outputs": [],
   "execution_count": null
  },
  {
   "metadata": {},
   "cell_type": "code",
   "source": [
    "metadata_columns = ['source_id', 'source_name', 'source_type', 'iso3_country', 'sector',\n",
    "       'subsector','lat', 'lon', 'geometry_ref',\n",
    "       'gas', 'activity_units', 'emissions_factor', 'emissions_factor_units',\n",
    "        'capacity_units', 'capacity_factor', 'other1', 'other1_def',\n",
    "       'other2', 'other2_def', 'other3', 'other3_def', 'sector_id'\n",
    "                    ]\n",
    "columns_to_sum = ['emissions_quantity', 'activity', 'capacity']"
   ],
   "id": "23ff0578fbee39bb",
   "outputs": [],
   "execution_count": null
  },
  {
   "metadata": {},
   "cell_type": "code",
   "source": [
    "# Compute annual sums while keeping relevant metadata\n",
    "ctrace_annual = compute_annual_figures(\n",
    "    ctrace, \n",
    "    'start_time', \n",
    "    columns_to_sum, \n",
    "    metadata_columns)\n",
    "ctrace_annual"
   ],
   "id": "5f0c3faa6a937a89",
   "outputs": [],
   "execution_count": null
  },
  {
   "metadata": {},
   "cell_type": "code",
   "source": [
    "#Activity = represents the amount in t or ore extracted (e.g. t of copper ore, t of iron ore)\n",
    "#Capacity = metal resource contained in the mine (e.g. metal resource contained in the mine in tonnes)"
   ],
   "id": "1c649f0d95e344d8",
   "outputs": [],
   "execution_count": null
  },
  {
   "metadata": {},
   "cell_type": "markdown",
   "source": "# Exports",
   "id": "53a6a4baa38e21fc"
  },
  {
   "metadata": {},
   "cell_type": "code",
   "source": [
    "nrcan_mining_df.to_csv(r'data/cleaned_data/nrcan_mining_df.csv', index=False)\n",
    "min_can_df.to_csv(r'data/cleaned_data/min_can_cleaned_df.csv', index=False)\n",
    "ghg_facility_metal_mining_df.to_csv(r'data/cleaned_data/ghg_facility_metal_mining_df.csv', index=False)\n",
    "ghg_facility_metal_manufacturing_df.to_csv(r'data/cleaned_data/ghg_facility_metal_manufacturing_df.csv', index=False)\n",
    "npri_metal_mining_df.to_csv(r'data/cleaned_data/npri_metal_mining_df.csv', index=False)\n",
    "npri_metal_manufacturing_df.to_csv(r'data/cleaned_data/npri_metal_manufacturing_df.csv', index=False)\n",
    "tailings_df.to_csv(r'data/cleaned_data/tailings_df.csv', index=False)\n",
    "ctrace_annual.to_csv(r'data/cleaned_data/ctrace_annual.csv', index=False)"
   ],
   "id": "1d5bd2cb5d494000",
   "outputs": [],
   "execution_count": null
  },
  {
   "metadata": {},
   "cell_type": "code",
   "source": "",
   "id": "2575b0f0e7228df4",
   "outputs": [],
   "execution_count": null
  }
 ],
 "metadata": {
  "kernelspec": {
   "display_name": "Python 3",
   "language": "python",
   "name": "python3"
  },
  "language_info": {
   "codemirror_mode": {
    "name": "ipython",
    "version": 2
   },
   "file_extension": ".py",
   "mimetype": "text/x-python",
   "name": "python",
   "nbconvert_exporter": "python",
   "pygments_lexer": "ipython2",
   "version": "2.7.6"
  }
 },
 "nbformat": 4,
 "nbformat_minor": 5
}
