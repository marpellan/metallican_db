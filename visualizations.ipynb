{
 "cells": [
  {
   "cell_type": "code",
   "id": "initial_id",
   "metadata": {
    "collapsed": true,
    "ExecuteTime": {
     "end_time": "2025-05-13T18:22:46.030132Z",
     "start_time": "2025-05-13T18:22:44.045824Z"
    }
   },
   "source": [
    "import pandas as pd\n",
    "import numpy as np"
   ],
   "outputs": [],
   "execution_count": 1
  },
  {
   "metadata": {
    "ExecuteTime": {
     "end_time": "2025-05-13T18:22:59.884282Z",
     "start_time": "2025-05-13T18:22:59.861645Z"
    }
   },
   "cell_type": "code",
   "source": "import plotly.graph_objects as go",
   "id": "18040c5de259a106",
   "outputs": [],
   "execution_count": 2
  },
  {
   "metadata": {
    "ExecuteTime": {
     "end_time": "2025-05-13T18:26:21.506270Z",
     "start_time": "2025-05-13T18:26:20.730555Z"
    }
   },
   "cell_type": "code",
   "source": "df = pd.read_excel(r'data/Tables/extracted_data.xlsx', sheet_name='IDs')",
   "id": "b35847e03bdc2bd6",
   "outputs": [],
   "execution_count": 4
  },
  {
   "metadata": {
    "ExecuteTime": {
     "end_time": "2025-05-13T18:40:13.409694Z",
     "start_time": "2025-05-13T18:40:13.399258Z"
    }
   },
   "cell_type": "code",
   "source": [
    "import os\n",
    "import pandas as pd\n",
    "import plotly.graph_objects as go\n",
    "\n",
    "def create_sankey(\n",
    "    df,\n",
    "    save_path\n",
    "):\n",
    "    \"\"\"\n",
    "    Creates a Sankey diagram:\n",
    "    - Mining/Manufacturing: Facility Type → Company Name → Commodity\n",
    "    - Project: Facility Type → Commodity\n",
    "\n",
    "    Parameters\n",
    "    ----------\n",
    "    df : pd.DataFrame\n",
    "        Must contain 'facility_type', 'company_name_folder', 'commodities_nrcan'\n",
    "    save_path : str\n",
    "        Path WITHOUT extension (e.g., 'results/sankey/facility_company_commodity')\n",
    "    \"\"\"\n",
    "    os.makedirs(os.path.dirname(save_path), exist_ok=True)\n",
    "\n",
    "    # 1) Basic cleaning\n",
    "    df_viz = df[['facility_type', 'company_name_folder', 'commodities_nrcan']].dropna(subset=['facility_type']).copy()\n",
    "    df_viz['commodities_nrcan'] = df_viz['commodities_nrcan'].fillna('Unknown')\n",
    "    df_viz = df_viz.assign(commodities_nrcan=df_viz['commodities_nrcan'].str.split(', ')).explode('commodities_nrcan')\n",
    "\n",
    "    # 2) Define nodes\n",
    "    facility_types = df_viz['facility_type'].unique().tolist()\n",
    "    companies = df_viz['company_name_folder'].dropna().unique().tolist()\n",
    "    commodities = df_viz['commodities_nrcan'].unique().tolist()\n",
    "\n",
    "    node_labels = facility_types + companies + commodities\n",
    "    node_colors = (\n",
    "        [\"#66c2a5\"] * len(facility_types) +\n",
    "        [\"#fc8d62\"] * len(companies) +\n",
    "        [\"#8da0cb\"] * len(commodities)\n",
    "    )\n",
    "    node_indices = {label: idx for idx, label in enumerate(node_labels)}\n",
    "\n",
    "    # 3) Build links\n",
    "    sources = []\n",
    "    targets = []\n",
    "    values = []\n",
    "\n",
    "    # Separate data\n",
    "    df_mine_manuf = df_viz[df_viz['facility_type'].isin(['mining', 'manufacturing'])]\n",
    "    df_project = df_viz[df_viz['facility_type'] == 'project']\n",
    "\n",
    "    # a) mining/manufacturing: facility_type → company\n",
    "    links_fc = df_mine_manuf.groupby(['facility_type', 'company_name_folder']).size().reset_index(name='count')\n",
    "    for _, row in links_fc.iterrows():\n",
    "        sources.append(node_indices[row['facility_type']])\n",
    "        targets.append(node_indices[row['company_name_folder']])\n",
    "        values.append(row['count'])\n",
    "\n",
    "    # b) company → commodity\n",
    "    links_cc = df_mine_manuf.groupby(['company_name_folder', 'commodities_nrcan']).size().reset_index(name='count')\n",
    "    for _, row in links_cc.iterrows():\n",
    "        sources.append(node_indices[row['company_name_folder']])\n",
    "        targets.append(node_indices[row['commodities_nrcan']])\n",
    "        values.append(row['count'])\n",
    "\n",
    "    # c) project: facility_type → commodity\n",
    "    links_pc = df_project.groupby(['facility_type', 'commodities_nrcan']).size().reset_index(name='count')\n",
    "    for _, row in links_pc.iterrows():\n",
    "        sources.append(node_indices[row['facility_type']])\n",
    "        targets.append(node_indices[row['commodities_nrcan']])\n",
    "        values.append(row['count'])\n",
    "\n",
    "    # 4) Build figure\n",
    "    fig = go.Figure(go.Sankey(\n",
    "        arrangement=\"snap\",\n",
    "        node=dict(\n",
    "            pad=15, thickness=20, line=dict(color=\"black\", width=1),\n",
    "            label=node_labels, color=node_colors,\n",
    "        ),\n",
    "        link=dict(source=sources, target=targets, value=values)\n",
    "    ))\n",
    "\n",
    "    fig.update_layout(\n",
    "        font_family=\"Arial\", font_color='black', font_size=12,\n",
    "        width=1400, height=800,\n",
    "        paper_bgcolor=\"white\", plot_bgcolor=\"white\"\n",
    "    )\n",
    "\n",
    "    # 5) Save outputs\n",
    "    fig.write_html(f\"{save_path}.html\")\n",
    "    try:\n",
    "        fig.write_image(f\"{save_path}.pdf\", format=\"pdf\", width=1400, height=800, scale=2)\n",
    "    except ValueError:\n",
    "        print(\"Warning: Kaleido not installed, PDF export skipped.\")\n",
    "\n",
    "    return fig\n"
   ],
   "id": "90de0ff0856dd07c",
   "outputs": [],
   "execution_count": 14
  },
  {
   "metadata": {
    "ExecuteTime": {
     "end_time": "2025-05-13T18:40:13.945457Z",
     "start_time": "2025-05-13T18:40:13.855670Z"
    }
   },
   "cell_type": "code",
   "source": "sankey_fig = create_sankey(df, save_path='results/sankey')",
   "id": "cf644dcb68502d2d",
   "outputs": [
    {
     "name": "stdout",
     "output_type": "stream",
     "text": [
      "Warning: Kaleido not installed, PDF export skipped.\n"
     ]
    }
   ],
   "execution_count": 15
  },
  {
   "metadata": {},
   "cell_type": "code",
   "outputs": [],
   "execution_count": null,
   "source": "",
   "id": "a42c1d8322f629f9"
  }
 ],
 "metadata": {
  "kernelspec": {
   "display_name": "Python 3",
   "language": "python",
   "name": "python3"
  },
  "language_info": {
   "codemirror_mode": {
    "name": "ipython",
    "version": 2
   },
   "file_extension": ".py",
   "mimetype": "text/x-python",
   "name": "python",
   "nbconvert_exporter": "python",
   "pygments_lexer": "ipython2",
   "version": "2.7.6"
  }
 },
 "nbformat": 4,
 "nbformat_minor": 5
}
