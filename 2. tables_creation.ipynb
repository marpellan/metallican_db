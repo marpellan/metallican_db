{
 "cells": [
  {
   "cell_type": "code",
   "id": "initial_id",
   "metadata": {
    "collapsed": true
   },
   "source": [
    "import pandas as pd\n",
    "import numpy as np\n",
    "import geopandas as gpd\n",
    "import time\n",
    "from pathlib import Path\n",
    "import matplotlib.pyplot as plt\n",
    "import seaborn as sns\n",
    "import ee # Google Earth Engine\n",
    "import geemap # Google Earth Engine\n",
    "import xarray # for nc file "
   ],
   "outputs": [],
   "execution_count": null
  },
  {
   "metadata": {},
   "cell_type": "code",
   "source": [
    "# Force re-authentication\n",
    "ee.Authenticate()"
   ],
   "id": "43403301e7d230db",
   "outputs": [],
   "execution_count": null
  },
  {
   "metadata": {},
   "cell_type": "code",
   "source": [
    "PROJECT_ID = \"miningcandb\"  \n",
    "ee.Initialize(project=PROJECT_ID) \n",
    "print(\"✅ Earth Engine is now initialized with project:\", PROJECT_ID)"
   ],
   "id": "c2fd21382edc5ef1",
   "outputs": [],
   "execution_count": null
  },
  {
   "metadata": {},
   "cell_type": "markdown",
   "source": "# Import cleaned datasets",
   "id": "578cf54a8400b92b"
  },
  {
   "metadata": {},
   "cell_type": "code",
   "source": [
    "# Canada SHP files\n",
    "canada_boundary = gpd.read_file(\"data/Sources/Canada_boundary/Canada_boundary.shp\")\n",
    "canada_provinces = gpd.read_file(\"data/Sources/Canada_provinces_boundary/lpr_000b21a_e.shp\")"
   ],
   "id": "479020eae67893c7",
   "outputs": [],
   "execution_count": null
  },
  {
   "metadata": {},
   "cell_type": "code",
   "source": [
    "# MinCan datasets\n",
    "min_can_df = pd.read_csv(\n",
    "    r'data/cleaned_data/min_can_cleaned_df.csv')"
   ],
   "id": "a2c6332d7f1187f7",
   "outputs": [],
   "execution_count": null
  },
  {
   "metadata": {},
   "cell_type": "code",
   "source": [
    "# NRCan datasets\n",
    "nrcan_mining_df = pd.read_excel(\n",
    "    r'data/NRCan/Principal Mineral Areas, Producing Mines, and Oil and Gas Fields (900A)/nrcan_mining_df.xlsx')\n",
    "nrcan_manufacturing_df = pd.read_excel(\n",
    "    r'data/NRCan/Principal Mineral Areas, Producing Mines, and Oil and Gas Fields (900A)/nrcan_manufacturing_df.xlsx')\n",
    "nrcan_critical_df = pd.read_excel(\n",
    "    r'data/NRCan/Critical minerals advanced projects, mines and processing facilities in Canada/Critical minerals advanced projects, mines and processing facilities.xlsx'\n",
    ")"
   ],
   "id": "28eb357c792f7a08",
   "outputs": [],
   "execution_count": null
  },
  {
   "metadata": {},
   "cell_type": "code",
   "source": [
    "# GHG from large facilities datasets\n",
    "ghg_facility_metal_mining_df = pd.read_csv(\n",
    "    r'data/cleaned_data/ghg_facility_metal_mining_df.csv')\n",
    "ghg_facility_metal_manufacturing_df = pd.read_csv(\n",
    "    r'data/cleaned_data/ghg_facility_metal_manufacturing_df.csv')"
   ],
   "id": "25c9e8bf6e7b164d",
   "outputs": [],
   "execution_count": null
  },
  {
   "metadata": {},
   "cell_type": "code",
   "source": [
    "# NPRI dataset\n",
    "npri_metal_mining_df = pd.read_csv(\n",
    "    r'data/cleaned_data/npri_metal_mining_df.csv')\n",
    "npri_metal_manufacturing_df = pd.read_csv(\n",
    "    r'data/cleaned_data/npri_metal_manufacturing_df.csv')"
   ],
   "id": "45a862ace0b8ff4",
   "outputs": [],
   "execution_count": null
  },
  {
   "metadata": {},
   "cell_type": "code",
   "source": [
    "# Tailings dataset\n",
    "tailings_source_df = pd.read_excel(\n",
    "    r'data/Sources/WAPHA_global_metal_mines_database/GTD_Single_Table 4.0_March-2021.xlsx',\n",
    "    skiprows=2\n",
    ")\n",
    "tailings_source_df = tailings_source_df[tailings_source_df['country'] == 'Canada']"
   ],
   "id": "4a6e625fb0b58611",
   "outputs": [],
   "execution_count": null
  },
  {
   "metadata": {},
   "cell_type": "code",
   "source": [
    "# Climate Trace dataset\n",
    "ctrace_annual = pd.read_csv(\n",
    "    r'data/cleaned_data/ctrace_annual.csv')"
   ],
   "id": "c567e90a0f2ec8fa",
   "outputs": [],
   "execution_count": null
  },
  {
   "metadata": {},
   "cell_type": "markdown",
   "source": "# 1.a) Create parents table",
   "id": "6e2a9cbb0af3f366"
  },
  {
   "metadata": {},
   "cell_type": "code",
   "source": "from db_creation_function import check_duplicate_facilities",
   "id": "4d92ac1596ddbe7e",
   "outputs": [],
   "execution_count": null
  },
  {
   "metadata": {},
   "cell_type": "code",
   "source": [
    "# We drop all industrial minerals from the mining dataset\n",
    "nrcan_mining_df = nrcan_mining_df[nrcan_mining_df[\"COM_GROU_E\"] != \"Industrial minerals\"]"
   ],
   "id": "5ac69bde07a5de1b",
   "outputs": [],
   "execution_count": null
  },
  {
   "metadata": {},
   "cell_type": "code",
   "source": [
    "# We keep only projects to avoid duplicates with the 900A dataset\n",
    "nrcan_critical_df = nrcan_critical_df[nrcan_critical_df['OperationG'] == 'Project']"
   ],
   "id": "a1f4bc65b4941f0",
   "outputs": [],
   "execution_count": null
  },
  {
   "metadata": {},
   "cell_type": "code",
   "source": "from db_creation_function import populate_table_df, assign_id",
   "id": "a529b99e4f8df0e6",
   "outputs": [],
   "execution_count": null
  },
  {
   "metadata": {},
   "cell_type": "code",
   "source": [
    "# We first create an empty df with the columns we want to have in the facility_df\n",
    "main_columns = {\n",
    "    #\"facility_id\": \"text\",\n",
    "    \"facility_name\": \"text\",\n",
    "    \"reported_company\": \"text\",\n",
    "    \"longitude\": \"float\",\n",
    "    \"latitude\": \"float\",\n",
    "    \"city\": \"text\", # not specified in the project df \n",
    "    \"province\": \"text\",\n",
    "    \"status\": \"text\", # active or projects \n",
    "    \"activity_status\": \"text\", # only for projects\n",
    "    \"development_stage\": \"text\", # only for projects\n",
    "    \"facility_type\": \"text\", # mining, manufacturing or projects\n",
    "    \"mining_processing_type\": \"text\",\n",
    "    \"commodity_group\": \"text\",\n",
    "    \"primary_commodity\": \"text\",\n",
    "    \"commodities\": \"text\",\n",
    "    \"source\": \"text\"  \n",
    "}\n",
    "\n",
    "main_df = pd.DataFrame(columns=main_columns.keys())\n",
    "main_df"
   ],
   "id": "8c504f2de3ef364b",
   "outputs": [],
   "execution_count": null
  },
  {
   "metadata": {},
   "cell_type": "code",
   "source": [
    "column_mapping_main = {\n",
    "    \n",
    "      \"nrcan_mining_df\": {\n",
    "        \"OPERATIO_E\": \"facility_name\",\n",
    "        \"OWNER_E\": \"reported_company\",\n",
    "        \"LONGITUDE\": \"longitude\",\n",
    "        \"LATITUDE\": \"latitude\",\n",
    "        \"CITY_E\": \"city\",\n",
    "        \"PROVINCE_E\": \"province\",\n",
    "        \"FAC_DESC_E\": \"mining_processing_type\",\n",
    "        \"COM_GROU_E\": \"commodity_group\", \n",
    "        \"COM_DESC_E\": \"commodities\"\n",
    "        \n",
    "    },\n",
    "    \"nrcan_manufacturing_df\": {\n",
    "        \"OPERATIO_E\": \"facility_name\",\n",
    "        \"OWNER_E\": \"reported_company\",\n",
    "        \"LONGITUDE\": \"longitude\",\n",
    "        \"LATITUDE\": \"latitude\",\n",
    "        \"PROVINCE_E\": \"province\",\n",
    "        \"FAC_TYPE_E\": \"mining_processing_type\",\n",
    "        \"COM_GROU_E\": \"commodity_group\",\n",
    "        \"COM_DESC_E\": \"commodities\"\n",
    "    }, \n",
    "    \n",
    "    \n",
    "    \"nrcan_critical_df\": {\n",
    "        \"PropertyNa\": \"facility_name\",\n",
    "        \"OperatorOw\": \"reported_company\",\n",
    "        \"Longitude\": \"longitude\",\n",
    "        \"Latitude\": \"latitude\",\n",
    "        \"ProvincesE\": \"province\",\n",
    "        \"Developmen\": \"development_stage\",\n",
    "        \"ActivitySt\": \"activity_status\",\n",
    "        \"Commoditie\": \"commodities\",\n",
    "    }\n",
    "}"
   ],
   "id": "b0965b63ec56ff1a",
   "outputs": [],
   "execution_count": null
  },
  {
   "metadata": {},
   "cell_type": "code",
   "source": [
    "main_df = populate_table_df(column_mapping_main, \n",
    "                                   main_df, \n",
    "                                   dynamic_columns = {\n",
    "                                       \"facility_type\": {\n",
    "                                           \"nrcan_mining_df\": \"mining\",\n",
    "                                            \"nrcan_manufacturing_df\": \"manufacturing\",\n",
    "                                           \"nrcan_critical_df\": \"project\"\n",
    "                                                           },\n",
    "                                       \"status\": {\n",
    "                                            \"nrcan_mining_df\": \"active_facility\",\n",
    "                                            \"nrcan_manufacturing_df\": \"active_facility\",\n",
    "                                            \"nrcan_critical_df\": \"project_facility\"\n",
    "                                                           },\n",
    "                                                      }, \n",
    "                            \n",
    "                                   source_dfs = {\"nrcan_mining_df\": nrcan_mining_df,\n",
    "                                                 \"nrcan_manufacturing_df\": nrcan_manufacturing_df,\n",
    "                                                 \"nrcan_critical_df\": nrcan_critical_df}\n",
    "                                   )"
   ],
   "id": "dc546d4141b30287",
   "outputs": [],
   "execution_count": null
  },
  {
   "metadata": {},
   "cell_type": "code",
   "source": [
    "# Compute primary_commodity from commodities\n",
    "if \"commodities\" in main_df.columns:\n",
    "    main_df[\"primary_commodity\"] = main_df[\"commodities\"].apply(\n",
    "            lambda x: x.split(\",\")[0].strip() if isinstance(x, str) and x else None\n",
    "        )"
   ],
   "id": "eb632c7e0953a05c",
   "outputs": [],
   "execution_count": null
  },
  {
   "metadata": {},
   "cell_type": "code",
   "source": [
    "main_gdf = assign_id(\n",
    "    main_df,\n",
    "    canada_provinces,\n",
    "    id_column = \"main_id\",\n",
    "    prefix='MAIN'\n",
    ")\n",
    "main_gdf"
   ],
   "id": "713e11f1606f1ed",
   "outputs": [],
   "execution_count": null
  },
  {
   "metadata": {},
   "cell_type": "code",
   "source": [
    "duplicates_main_gdf = check_duplicate_facilities(main_gdf)\n",
    "duplicates_main_gdf"
   ],
   "id": "7d296b9a9d5af211",
   "outputs": [],
   "execution_count": null
  },
  {
   "metadata": {},
   "cell_type": "code",
   "source": [
    "main_gdf.to_file(r'data/Tables/GeoJSON/main_gdf.geojson', driver=\"GeoJSON\")\n",
    "main_gdf.to_csv(r'data/Tables/CSV/main_gdf.csv', index=False)"
   ],
   "id": "8f5d849f39826fce",
   "outputs": [],
   "execution_count": null
  },
  {
   "metadata": {},
   "cell_type": "markdown",
   "source": "This is the parent table, composed of 114 mines, 73 manufacturing sites and 189 projects.",
   "id": "c6734972bee1d9a6"
  },
  {
   "metadata": {},
   "cell_type": "markdown",
   "source": "# 1.b) Create children tables",
   "id": "9d4eac36bc3a9a07"
  },
  {
   "metadata": {},
   "cell_type": "code",
   "source": "from db_creation_function import add_year, assign_row_id",
   "id": "e619290c195c8889",
   "outputs": [],
   "execution_count": null
  },
  {
   "metadata": {},
   "cell_type": "markdown",
   "source": "## Children tables with coordinates",
   "id": "2cd4db8711986e20"
  },
  {
   "metadata": {},
   "cell_type": "markdown",
   "source": "### Create tailings table",
   "id": "ccc9ab44cebdd4aa"
  },
  {
   "metadata": {},
   "cell_type": "code",
   "source": [
    "# We first create an empty df with the columns we want to have in the facility_df\n",
    "tailings_columns = {\n",
    "    #\"facility_id\": \"text\",\n",
    "    \"tsf_name\": \"text\",\n",
    "    \"related_mine\": \"text\",\n",
    "    \"main_owner\": \"text\",\n",
    "    \"full_ownership\": \"text\",\n",
    "    \"operator\": \"text\",\n",
    "    \"longitude\": \"float\",\n",
    "    \"latitude\": \"float\",\n",
    "    \"status\": \"text\", \n",
    "    \"construction_year\": \"int\",\n",
    "    \"raise_type\": \"text\",\t\n",
    "    \"current_maximum_height\": \"int\",\t\n",
    "    \"current_tailings_storage\": \"int\",\t\n",
    "    \"planned_storage_5_years\": \"int\",\n",
    "    \"hazard_categorization\": \"text\",\n",
    "    \"classification_system\": \"text\",\n",
    "    \"link\": \"text\",\n",
    "    \"source\": \"text\"  \n",
    "}\n",
    "\n",
    "tailings_df = pd.DataFrame(columns=tailings_columns.keys())\n",
    "tailings_df"
   ],
   "id": "be391db9d13b40ae",
   "outputs": [],
   "execution_count": null
  },
  {
   "metadata": {},
   "cell_type": "code",
   "source": [
    "column_mapping_tailings = {\n",
    "    \"tailings_source_df\": {\n",
    "    \"tsf\": \"tsf_name\",\n",
    "    \"mine\": \"related_mine\",\n",
    "    \"Owner_company\": \"main_owner\",\n",
    "    \"partners (not from disclosure)\": \"full_ownership\",\n",
    "    \"operator\": \"operator\",\n",
    "    \"longitude\": \"longitude\",\n",
    "    \"latitude\": \"latitude\",\n",
    "    \"status\": \"status\", \n",
    "    \"construction_year\": \"construction_year\",\n",
    "    \"raise_type\": \"raise_type\",\t\n",
    "    \"current_maximum_height\": \"current_maximum_height\",\t\n",
    "    \"current_tailings_storage\": \"current_tailings_storage\",\t\n",
    "    \"planned_storage_5_years\": \"planned_storage_5_years\",\n",
    "    \"hazard_categorization\": \"hazard_categorization\",\n",
    "    \"classification_system\": \"classification_system\",\n",
    "    \"link\": \"link\"\n",
    "    }\n",
    "}"
   ],
   "id": "9ac9b98b1da0380f",
   "outputs": [],
   "execution_count": null
  },
  {
   "metadata": {},
   "cell_type": "code",
   "source": [
    "tailings_df = populate_table_df(column_mapping_tailings, \n",
    "                                   tailings_df, \n",
    "                                   source_dfs = {\"tailings_source_df\": tailings_source_df}\n",
    "                                   )"
   ],
   "id": "84bfd2869c4a100e",
   "outputs": [],
   "execution_count": null
  },
  {
   "metadata": {},
   "cell_type": "code",
   "source": "tailings_gdf = assign_id(tailings_df, canada_provinces, id_column='tailing_id', prefix='TAIL', name_col=\"tsf_name\")",
   "id": "66b69dc98506c40f",
   "outputs": [],
   "execution_count": null
  },
  {
   "metadata": {},
   "cell_type": "code",
   "source": "tailings_gdf = add_year(tailings_gdf, 2019)",
   "id": "bc71bb1db3876cc1",
   "outputs": [],
   "execution_count": null
  },
  {
   "metadata": {},
   "cell_type": "code",
   "source": [
    "tailings_gdf = assign_row_id(tailings_gdf, \n",
    "                  facility_id_col='tailing_id',\n",
    "                  prefix='TAIL',\n",
    "                  year_col='year'           \n",
    "                  )"
   ],
   "id": "a7b82a059e665766",
   "outputs": [],
   "execution_count": null
  },
  {
   "metadata": {},
   "cell_type": "code",
   "source": "tailings_gdf",
   "id": "7b9353fc8171e4c0",
   "outputs": [],
   "execution_count": null
  },
  {
   "metadata": {},
   "cell_type": "code",
   "source": [
    "tailings_gdf.to_file(r'data/Tables/GeoJSON/tailings_gdf.geojson', driver=\"GeoJSON\")\n",
    "tailings_gdf.to_csv(r'data/Tables/CSV/tailings_gdf.csv', index=False)"
   ],
   "id": "56aabc3d78b3e20c",
   "outputs": [],
   "execution_count": null
  },
  {
   "metadata": {},
   "cell_type": "markdown",
   "source": "### Create ClimateTRACE table",
   "id": "51217d5568a49270"
  },
  {
   "metadata": {},
   "cell_type": "code",
   "source": [
    "# # # Let's choose the year 2023\n",
    "# ctrace_df = ctrace_annual[ctrace_annual['year'] == 2023]\n",
    "# ctrace_df = ctrace_df.drop(columns='year').reset_index(drop=True)"
   ],
   "id": "e9b15faece6fdd5a",
   "outputs": [],
   "execution_count": null
  },
  {
   "metadata": {},
   "cell_type": "code",
   "source": [
    "# # # We rename geometry columns for ID assignation\n",
    "# ctrace_df = ctrace_df.rename(columns={\n",
    "#     'lat': 'latitude',\n",
    "#     'lon': 'longitude',\n",
    "# }\n",
    "# )"
   ],
   "id": "eef07e7f62652927",
   "outputs": [],
   "execution_count": null
  },
  {
   "metadata": {},
   "cell_type": "code",
   "source": "# ctrace_df",
   "id": "fd6f59219af81ba9",
   "outputs": [],
   "execution_count": null
  },
  {
   "metadata": {},
   "cell_type": "code",
   "source": [
    "# # ctrace_gdf = assign_id(\n",
    "#     ctrace_df, \n",
    "#     canada_provinces,\n",
    "#     id_column = 'climate_trace_id',\n",
    "#     prefix=\"CTRACE\")"
   ],
   "id": "8549ce608dcf94a0",
   "outputs": [],
   "execution_count": null
  },
  {
   "metadata": {},
   "cell_type": "code",
   "source": "# ctrace_gdf = add_year(ctrace_gdf, 2023)",
   "id": "69137a5302be2845",
   "outputs": [],
   "execution_count": null
  },
  {
   "metadata": {},
   "cell_type": "code",
   "source": "# ctrace_gdf",
   "id": "74e8f63b71a3fb1",
   "outputs": [],
   "execution_count": null
  },
  {
   "metadata": {},
   "cell_type": "code",
   "source": [
    "# ctrace_gdf.to_file(r'data/Tables/GeoJSON/ctrace_gdf.geojson', driver=\"GeoJSON\")\n",
    "#ctrace_gdf.to_csv(r'data/Tables/CSV/ctrace_gdf.csv', index=False)"
   ],
   "id": "7721ad35e902b1d1",
   "outputs": [],
   "execution_count": null
  },
  {
   "metadata": {},
   "cell_type": "markdown",
   "source": "### Create MinCan table ",
   "id": "c4e72c5beb5caa50"
  },
  {
   "metadata": {},
   "cell_type": "code",
   "source": [
    "min_can_df = min_can_df.drop(columns=[\n",
    "    'commodity1', 'commodity2', 'commodity3', 'commodity4', 'commodity5', 'commodity6', 'commodity7', 'commodity8'])\n"
   ],
   "id": "66b64ec278f73487",
   "outputs": [],
   "execution_count": null
  },
  {
   "metadata": {},
   "cell_type": "code",
   "source": "min_can_df",
   "id": "b5ac5a9e03aa9956",
   "outputs": [],
   "execution_count": null
  },
  {
   "metadata": {},
   "cell_type": "code",
   "source": [
    "min_can_gdf = assign_id(min_can_df, \n",
    "                              canada_provinces = canada_provinces,\n",
    "                              id_column=\"mincan_id\", prefix=\"MINCAN\",\n",
    "                              name_col='namemine')\n",
    "min_can_gdf"
   ],
   "id": "e2983154cd58c8bb",
   "outputs": [],
   "execution_count": null
  },
  {
   "metadata": {},
   "cell_type": "code",
   "source": [
    "min_can_gdf.to_file(r'data/Tables/GeoJSON/min_can_gdf.geojson', driver=\"GeoJSON\")\n",
    "min_can_gdf.to_csv(r'data/Tables/CSV/min_can_gdf.csv', index=False)"
   ],
   "id": "e1f35c565451a0d",
   "outputs": [],
   "execution_count": null
  },
  {
   "metadata": {},
   "cell_type": "markdown",
   "source": "### Create GHG table",
   "id": "448b50c0ce8cc9c"
  },
  {
   "metadata": {},
   "cell_type": "code",
   "source": [
    "# We first create an empty df with the columns we want to have in the ghg_df\n",
    "ghg_columns = {\n",
    "    \"facility_name_ghg\": \"text\",\n",
    "    \"longitude\": \"float\",   \n",
    "    \"latitude\": \"float\",\n",
    "    \"city\": \"text\",\n",
    "    \"province\": \"text\",\n",
    "    \"year\": \"integer\",\n",
    "    \"sector\": \"text\",\n",
    "    \"value\": \"float\",\n",
    "    \"unit\": \"text\", # column \n",
    "    \"facility_url\" : \"url\" # column Facility information\n",
    "}\n",
    "\n",
    "ghg_df = pd.DataFrame(columns=ghg_columns.keys())\n",
    "ghg_df"
   ],
   "id": "cb15e3646339019f",
   "outputs": [],
   "execution_count": null
  },
  {
   "metadata": {},
   "cell_type": "code",
   "source": [
    "# Based on concordances tables\n",
    "column_mapping_ghg = {\n",
    "    \"ghg_facility_metal_mining_df\": {\n",
    "        \"Facility name\": \"facility_name_ghg\",\n",
    "        \"Latitude\": \"latitude\",\n",
    "        \"Longitude\": \"longitude\",\n",
    "        \"City\": \"city\",\n",
    "        \"Province\": \"province\",\n",
    "        \"Report year\": \"year\",\n",
    "        \"Industry classification\": \"sector\",\n",
    "        \"Total emissions\": \"value\",\n",
    "        \"Units\": \"unit\",\n",
    "        \"Facility information\": \"facility_url\",\n",
    " \n",
    "    },\n",
    "    \n",
    "    \"ghg_facility_metal_manufacturing_df\": {\n",
    "        \"Facility name\": \"facility_name_ghg\",\n",
    "        \"Latitude\": \"latitude\",\n",
    "        \"Longitude\": \"longitude\",\n",
    "        \"City\": \"city\",\n",
    "        \"Province\": \"province\",\n",
    "        \"Report year\": \"year\",\n",
    "        \"Industry classification\": \"sector\",\n",
    "        \"Total emissions\": \"value\",\n",
    "        \"Units\": \"unit\",\n",
    "        \"Facility information\": \"facility_url\",\n",
    "    }, \n",
    "    }"
   ],
   "id": "4de657d58a1f9c4",
   "outputs": [],
   "execution_count": null
  },
  {
   "metadata": {},
   "cell_type": "code",
   "source": [
    "ghg_df = populate_table_df(\n",
    "                           column_mapping_ghg, \n",
    "                           ghg_df,\n",
    "                            source_dfs = {\n",
    "                                  \"ghg_facility_metal_mining_df\": ghg_facility_metal_mining_df,\n",
    "                                  \"ghg_facility_metal_manufacturing_df\": ghg_facility_metal_manufacturing_df}\n",
    ")"
   ],
   "id": "714253d10cb920f",
   "outputs": [],
   "execution_count": null
  },
  {
   "metadata": {},
   "cell_type": "code",
   "source": "ghg_df",
   "id": "fc182743deb20906",
   "outputs": [],
   "execution_count": null
  },
  {
   "metadata": {},
   "cell_type": "code",
   "source": [
    "ghg_gdf = assign_id(\n",
    "    ghg_df,\n",
    "    canada_provinces,\n",
    "    id_column = \"ghg_id\",\n",
    "    prefix='ghg',\n",
    "    name_col='facility_name_ghg'\n",
    ")\n"
   ],
   "id": "5f838f9fbcb868c6",
   "outputs": [],
   "execution_count": null
  },
  {
   "metadata": {},
   "cell_type": "code",
   "source": "ghg_gdf = add_year(ghg_gdf, 2022)",
   "id": "efd25fba7e7dddf3",
   "outputs": [],
   "execution_count": null
  },
  {
   "metadata": {},
   "cell_type": "code",
   "source": [
    "ghg_gdf = assign_row_id(ghg_gdf,\n",
    "                        facility_id_col='ghg_id',\n",
    "                        prefix='GHG', \n",
    "                        year_col='year')"
   ],
   "id": "4cd31e2ec6550341",
   "outputs": [],
   "execution_count": null
  },
  {
   "metadata": {},
   "cell_type": "code",
   "source": "ghg_gdf",
   "id": "ff2a44f21a61c406",
   "outputs": [],
   "execution_count": null
  },
  {
   "metadata": {},
   "cell_type": "code",
   "source": [
    "ghg_gdf.to_file(r'data/Tables/GeoJSON/ghg_gdf.geojson', driver=\"GeoJSON\")\n",
    "ghg_gdf.to_csv(r'data/Tables/CSV/ghg_gdf.csv', index=False)"
   ],
   "id": "3a87c25d4f472ce4",
   "outputs": [],
   "execution_count": null
  },
  {
   "metadata": {},
   "cell_type": "markdown",
   "source": "### Create pollutant table based on NPRI dataset",
   "id": "33ef2b87fccc63d8"
  },
  {
   "metadata": {},
   "cell_type": "code",
   "source": [
    "pollutant_columns = {\n",
    "    #\"id\": \"text\",\n",
    "    \"facility_name_npri\": \"text\",\n",
    "    \"company_name_npri\": \"text\",\n",
    "    \"facility_type\": \"text\",\n",
    "    \"longitude\": \"float\",\n",
    "    \"latitude\": \"float\",\n",
    "    \"year\": \"integer\",\n",
    "    \"terrestrial_ecozone\": \"text\",\n",
    "    \"watershed\": \"text\",\n",
    "    \"substance_name_npri\": \"text\",\n",
    "    \"substance_name_ecoinvent\": \"text\",\n",
    "    \"substance_unit\": \"text\",\n",
    "    \"emission_type\": \"text\",\n",
    "    \"emission_subtype\": \"text\",\n",
    "    \"value\": \"float\"\n",
    "\n",
    "}\n",
    "\n",
    "# Create an empty DataFrame with the specified columns\n",
    "pollutant_df = pd.DataFrame(columns=pollutant_columns.keys())"
   ],
   "id": "1e9e4a0020f5e980",
   "outputs": [],
   "execution_count": null
  },
  {
   "metadata": {},
   "cell_type": "code",
   "source": [
    "column_mapping_pollutant = {\n",
    "    \"npri_metal_mining_df\": {\n",
    "        \"Facility Name\": \"facility_name_npri\",\n",
    "        \"Company Name\": \"company_name_npri\", \n",
    "        \"Latitude\": \"latitude\",\n",
    "        \"Longitude\": \"longitude\",\n",
    "        \"Year\": \"year\",\n",
    "        \"Terrestrial ecozone (English) \": \"terrestrial_ecozone\", # space \n",
    "        \"Watershed (English)\": \"watershed\",\n",
    "        \"Substance Name (English)\": \"substance_name_npri\",\n",
    "        \"EI\": \"substance_name_ecoinvent\",\n",
    "        \"Units\": \"substance_unit\",\n",
    "        \"emission_type\": \"emission_type\",\n",
    "        \"emission_subtype\": \"emission_subtype\",\n",
    "        \"value\": \"value\"\n",
    "    },\n",
    "    \n",
    "    \"npri_metal_manufacturing_df\": {\n",
    "        \"Facility Name\": \"facility_name_npri\",\n",
    "        \"Latitude\": \"latitude\",\n",
    "        \"Longitude\": \"longitude\",\n",
    "        \"Year\": \"year\",\n",
    "        \"Terrestrial ecozone (English) \": \"terrestrial_ecozone\", # space \n",
    "        \"Watershed (English)\": \"watershed\",\n",
    "        \"Substance Name (English)\": \"substance_name_npri\",\n",
    "        \"EI\": \"substance_name_ecoinvent\",\n",
    "        \"Units\": \"substance_unit\",\n",
    "        \"emission_type\": \"emission_type\",\n",
    "        \"emission_subtype\": \"emission_subtype\",\n",
    "        \"value\": \"value\"\n",
    "    }\n",
    "}\n"
   ],
   "id": "682e24b3205c20b3",
   "outputs": [],
   "execution_count": null
  },
  {
   "metadata": {},
   "cell_type": "code",
   "source": [
    "pollutant_df = populate_table_df(column_mapping_pollutant, \n",
    "                                    pollutant_df,\n",
    "                                    dynamic_columns = {\n",
    "                                        \"facility_type\": {\n",
    "                                            \"npri_metal_mining_df\": \"mining\",\n",
    "                                            \"npri_metal_manufacturing_df\": \"manufacturing\"\n",
    "                                        },\n",
    "                                    },\n",
    "                                    source_dfs = {\n",
    "                                  \"npri_metal_mining_df\": npri_metal_mining_df,\n",
    "                                  \"npri_metal_manufacturing_df\": npri_metal_manufacturing_df\n",
    "                                    }\n",
    "                                    )"
   ],
   "id": "cd912acc4b93740a",
   "outputs": [],
   "execution_count": null
  },
  {
   "metadata": {},
   "cell_type": "code",
   "source": [
    "pollutant_gdf = assign_id(\n",
    "    pollutant_df,\n",
    "    canada_provinces,\n",
    "    id_column = \"pollutant_id\",\n",
    "    prefix='pollutant',\n",
    "    name_col='facility_name_npri'\n",
    ")"
   ],
   "id": "38a7b2beb1915a20",
   "outputs": [],
   "execution_count": null
  },
  {
   "metadata": {},
   "cell_type": "code",
   "source": "pollutant_gdf = add_year(pollutant_gdf, 2023)",
   "id": "1734f6b431affb16",
   "outputs": [],
   "execution_count": null
  },
  {
   "metadata": {},
   "cell_type": "code",
   "source": [
    "pollutant_gdf = assign_row_id(pollutant_gdf,\n",
    "                        facility_id_col='pollutant_id',\n",
    "                        prefix='POL',\n",
    "                        year_col='year'\n",
    "                              )"
   ],
   "id": "7bb12650002aa77e",
   "outputs": [],
   "execution_count": null
  },
  {
   "metadata": {},
   "cell_type": "code",
   "source": "pollutant_gdf",
   "id": "f052c3851cf039c9",
   "outputs": [],
   "execution_count": null
  },
  {
   "metadata": {},
   "cell_type": "code",
   "source": [
    "pollutant_gdf.to_file(r'data/Tables/GeoJSON/pollutant_gdf.geojson', driver=\"GeoJSON\")\n",
    "pollutant_gdf.to_csv(r'data/Tables/CSV/pollutant_gdf.csv', index=False)"
   ],
   "id": "69fef502d021a7e9",
   "outputs": [],
   "execution_count": null
  },
  {
   "metadata": {},
   "cell_type": "markdown",
   "source": "## Children tables with raster data",
   "id": "c9afa93e1736f6ce"
  },
  {
   "metadata": {},
   "cell_type": "code",
   "source": "import rasterio",
   "id": "1be2864d51738337",
   "outputs": [],
   "execution_count": null
  },
  {
   "metadata": {},
   "cell_type": "code",
   "source": "from gee_extraction import load_raster, extract_climate_for_facilities, extract_peatland_presence",
   "id": "713565fff99d96ad",
   "outputs": [],
   "execution_count": null
  },
  {
   "metadata": {},
   "cell_type": "markdown",
   "source": "### Create climate category table",
   "id": "cf1b3e5a5b2cbd32"
  },
  {
   "metadata": {},
   "cell_type": "code",
   "source": [
    "climate_category_gdf = main_gdf.copy()\n",
    "col_to_keep = ['main_id', 'facility_name', 'longitude', 'latitude', 'geometry']\n",
    "climate_category_gdf = climate_category_gdf[col_to_keep]"
   ],
   "id": "12d6f9575b97098c",
   "outputs": [],
   "execution_count": null
  },
  {
   "metadata": {},
   "cell_type": "code",
   "source": "from gee_extraction import load_raster, extract_climate_for_facilities",
   "id": "cb1304a06aed8d95",
   "outputs": [],
   "execution_count": null
  },
  {
   "metadata": {},
   "cell_type": "code",
   "source": [
    "periods = [\"1991_2020\", \"2041_2070\", \"2071_2099\"]\n",
    "scenarios = [\"ssp126\",\n",
    "             \"ssp245\", \"ssp370\", \"ssp585\"]\n",
    "resolution = \"0p00833333\" #0.00833333°, ~1 km\n",
    "\n",
    "# Extract climate categories\n",
    "climate_category_gdf = extract_climate_for_facilities(climate_category_gdf, periods, scenarios, resolution)"
   ],
   "id": "91e078272e52611a",
   "outputs": [],
   "execution_count": null
  },
  {
   "metadata": {},
   "cell_type": "code",
   "source": [
    "from constants import koppen_dict\n",
    "climate_category_gdf[\"category\"] = climate_category_gdf[\"category\"].map(koppen_dict)"
   ],
   "id": "e0524bc5971645ce",
   "outputs": [],
   "execution_count": null
  },
  {
   "metadata": {},
   "cell_type": "code",
   "source": [
    "# Insert a proper ID \n",
    "climate_category_gdf.insert(0, \"climate_category_id\", climate_category_gdf[\"main_id\"])"
   ],
   "id": "238c45a34f5dcba7",
   "outputs": [],
   "execution_count": null
  },
  {
   "metadata": {},
   "cell_type": "code",
   "source": [
    "climate_category_gdf = assign_row_id(climate_category_gdf,\n",
    "                  facility_id_col='main_id',\n",
    "                  prefix='CC',\n",
    "                  year_col='year',\n",
    "                  scenario_col='scenario'\n",
    "                  )"
   ],
   "id": "2a2ec55f9609f3d0",
   "outputs": [],
   "execution_count": null
  },
  {
   "metadata": {},
   "cell_type": "code",
   "source": "climate_category_gdf",
   "id": "2233a9686dc08815",
   "outputs": [],
   "execution_count": null
  },
  {
   "metadata": {},
   "cell_type": "code",
   "source": [
    "climate_category_gdf.to_file(r'data/Tables/GeoJSON/climate_category_gdf.geojson', driver=\"GeoJSON\")\n",
    "climate_category_gdf.to_csv(r'data/Tables/CSV/climate_category_gdf.csv', index=False)"
   ],
   "id": "2707a26fb0ea3113",
   "outputs": [],
   "execution_count": null
  },
  {
   "metadata": {},
   "cell_type": "markdown",
   "source": "### Create peatland table",
   "id": "fad3f8d9a97b8e4f"
  },
  {
   "metadata": {},
   "cell_type": "code",
   "source": [
    "peatland_tiff = \"data\\Sources\\Global_Peatland_DB_2022\\GLOpeat_GPA22WGS_2cl_1x1km\\peatGPA22WGS_2cl.tif\"\n",
    "raster_peatland = rasterio.open(peatland_tiff)"
   ],
   "id": "1888ed3ee8117bbf",
   "outputs": [],
   "execution_count": null
  },
  {
   "metadata": {},
   "cell_type": "code",
   "source": [
    "peatland_gdf = main_gdf.copy()\n",
    "col_to_keep = ['main_id', 'facility_name', 'longitude', 'latitude', 'geometry']\n",
    "peatland_gdf = peatland_gdf[col_to_keep]"
   ],
   "id": "e8cf77d4dbd5fd",
   "outputs": [],
   "execution_count": null
  },
  {
   "metadata": {},
   "cell_type": "code",
   "source": [
    "# Extract peatland values for each point\n",
    "peatland_gdf[\"peatland_presence\"] = peatland_gdf[\"geometry\"].apply(\n",
    "    lambda geom: extract_peatland_presence(geom, raster_peatland)\n",
    ")"
   ],
   "id": "f8b4aba134788009",
   "outputs": [],
   "execution_count": null
  },
  {
   "metadata": {},
   "cell_type": "code",
   "source": [
    "from constants import peatland_dict\n",
    "peatland_gdf[\"peatland_presence\"] = peatland_gdf[\"peatland_presence\"].map(peatland_dict)"
   ],
   "id": "cc6d0ddd8eced358",
   "outputs": [],
   "execution_count": null
  },
  {
   "metadata": {},
   "cell_type": "code",
   "source": [
    "# Insert a proper ID \n",
    "peatland_gdf.insert(0, \"peatland_id\", peatland_gdf[\"main_id\"])"
   ],
   "id": "1ac57e3c35db1236",
   "outputs": [],
   "execution_count": null
  },
  {
   "metadata": {},
   "cell_type": "code",
   "source": [
    "peatland_gdf.to_csv(r'data/Tables/CSV/peatland_gdf.csv', index=False)\n",
    "peatland_gdf.to_file(r'data/Tables/GeoJSON/peatland_gdf.geojson', driver=\"GeoJSON\")"
   ],
   "id": "28e785a285a4c153",
   "outputs": [],
   "execution_count": null
  },
  {
   "metadata": {},
   "cell_type": "markdown",
   "source": "## Children table from nc file ",
   "id": "3b2b794df3a5c28c"
  },
  {
   "metadata": {},
   "cell_type": "code",
   "source": "from gee_extraction import extract_variable_from_nc",
   "id": "7d28d9149fdb909f",
   "outputs": [],
   "execution_count": null
  },
  {
   "metadata": {},
   "cell_type": "markdown",
   "source": "### Create temperature and precipitation change",
   "id": "f0c7bdd9b434a779"
  },
  {
   "metadata": {},
   "cell_type": "code",
   "source": [
    "weather_gdf = main_gdf.copy()\n",
    "col_to_keep = ['main_id', 'facility_name', 'longitude', 'latitude', 'geometry']\n",
    "weather_gdf = weather_gdf[col_to_keep]"
   ],
   "id": "3db10412ff099629",
   "outputs": [],
   "execution_count": null
  },
  {
   "metadata": {},
   "cell_type": "code",
   "source": [
    "# daily temperature range\n",
    "dtr_path_ssp245 = r'data\\Sources\\CanDCS\\mbcn_dtr_index_m6_ssp245_ens-ensemblemean_145.960W_39.040N_47.040W_85.460N_2025-2100-yearly.nc' # daily temperature range "
   ],
   "id": "12a52190daf51725",
   "outputs": [],
   "execution_count": null
  },
  {
   "metadata": {},
   "cell_type": "code",
   "source": [
    "# annual total precipitation in wet days\n",
    "prcptot_path_ssp245 = r'data\\Sources\\CanDCS\\mbcn_prcptot_index_m6_ssp245_ens-ensemblemean_145.960W_39.040N_47.040W_85.460N_2025-2100-yearly.nc'          "
   ],
   "id": "f798a656be336408",
   "outputs": [],
   "execution_count": null
  },
  {
   "metadata": {},
   "cell_type": "code",
   "source": [
    "# all_weather = []\n",
    "# \n",
    "# for path, var_key, label, scenario, unit in [\n",
    "#     (dtr_path_ssp245, \"dtrETCCDI\", \"Daily Temperature Range\", \"ssp245\", \"°C\"),\n",
    "#     (dtr_path_ssp585, \"dtrETCCDI\", \"Daily Temperature Range\", \"ssp585\", \"°C\"),\n",
    "#     (prcp_path_ssp245, \"prcptotETCCDI\", \"Annual Precipitation\", \"ssp245\", \"mm\"),\n",
    "#     (prcp_path_ssp585, \"prcptotETCCDI\", \"Annual Precipitation\", \"ssp585\", \"mm\")\n",
    "# ]:\n",
    "#     gdf = extract_variable_from_nc(\n",
    "#         path,\n",
    "#         variable_label=label,\n",
    "#         var_key=var_key,\n",
    "#         facilities_gdf=weather_gdf,\n",
    "#         scenario=scenario,\n",
    "#         unit=unit\n",
    "#     )\n",
    "#     all_weather.append(gdf)\n",
    "# \n",
    "# # Combine all into one GeoDataFrame\n",
    "# weather_all = pd.concat(all_weather, ignore_index=True)\n"
   ],
   "id": "d1b4278ccbfec112",
   "outputs": [],
   "execution_count": null
  },
  {
   "metadata": {},
   "cell_type": "code",
   "source": [
    "gdf_prcp = extract_variable_from_nc(\n",
    "    prcptot_path_ssp245,\n",
    "    variable_label=\"Annual Precipitation\",\n",
    "    var_key=\"prcptotETCCDI\",\n",
    "    facilities_gdf=weather_gdf,\n",
    "    scenario=\"ssp245\",\n",
    "    unit=\"mm\"\n",
    ")\n",
    "\n",
    "gdf_dtr = extract_variable_from_nc(\n",
    "    dtr_path_ssp245,\n",
    "    variable_label=\"Daily Temperature Range\",\n",
    "    var_key=\"dtrETCCDI\",\n",
    "    facilities_gdf=weather_gdf,\n",
    "    scenario=\"ssp245\",\n",
    "    unit=\"°C\"\n",
    ")\n"
   ],
   "id": "4c04d6a2133df121",
   "outputs": [],
   "execution_count": null
  },
  {
   "metadata": {},
   "cell_type": "code",
   "source": "weather_gdf = pd.concat([gdf_prcp, gdf_dtr], ignore_index=True)",
   "id": "9e3a9f49fdda7f1e",
   "outputs": [],
   "execution_count": null
  },
  {
   "metadata": {},
   "cell_type": "code",
   "source": [
    "# Insert a proper ID \n",
    "weather_gdf.insert(0, \"weather_id\", weather_gdf[\"main_id\"])"
   ],
   "id": "9176248643dcf429",
   "outputs": [],
   "execution_count": null
  },
  {
   "metadata": {},
   "cell_type": "code",
   "source": [
    "weather_gdf = assign_row_id(weather_gdf,\n",
    "                  facility_id_col='main_id',\n",
    "                  prefix='weather',\n",
    "                  year_col='year',\n",
    "                  scenario_col='scenario'\n",
    "                  )"
   ],
   "id": "952b7515a273c00f",
   "outputs": [],
   "execution_count": null
  },
  {
   "metadata": {},
   "cell_type": "code",
   "source": [
    "weather_gdf.to_csv(r'data/Tables/CSV/weather_gdf.csv', index=False)\n",
    "weather_gdf.to_file(r'data/Tables/GeoJSON/weather_gdf.geojson', driver=\"GeoJSON\")"
   ],
   "id": "75bbad9c6bcd83a9",
   "outputs": [],
   "execution_count": null
  },
  {
   "metadata": {},
   "cell_type": "markdown",
   "source": "## Children tables with polygons",
   "id": "c17471c3559ed914"
  },
  {
   "metadata": {},
   "cell_type": "markdown",
   "source": "### Create land use table table based on Tang & Werner (2023) ",
   "id": "842f25fb46632803"
  },
  {
   "metadata": {},
   "cell_type": "markdown",
   "source": "#### Import datasets",
   "id": "309d12428bc6f579"
  },
  {
   "metadata": {},
   "cell_type": "code",
   "source": [
    "tang_gdf = gpd.read_file(\"data/Sources/Tang_Werner_2023/7894216/74548_projected polygons.shp\")\n",
    "maus_polygons_gdf = gpd.read_file(\"data/Sources/Maus_2022/global_mining_polygons_v2.gpkg\")\n",
    "maus_validation_points_gdf = gpd.read_file(\"data/Sources/Maus_2022/validation_points_v2.gpkg\")"
   ],
   "id": "915194de24821bfe",
   "outputs": [],
   "execution_count": null
  },
  {
   "metadata": {},
   "cell_type": "markdown",
   "source": "#### Filter dataset for Canada",
   "id": "5b18135b4f0a3330"
  },
  {
   "metadata": {},
   "cell_type": "markdown",
   "source": [
    "Maus et al directly provide an ISO3 country code so it is easy to filter it for Canada.\n",
    "Tanger & Werner do not provide it so we have to use a SHP file to have the borders for Canada"
   ],
   "id": "573096afb3c5655c"
  },
  {
   "metadata": {},
   "cell_type": "code",
   "source": [
    "maus_canada_gdf = maus_polygons_gdf[maus_polygons_gdf['ISO3_CODE'] == 'CAN']\n",
    "maus_canada_gdf = maus_canada_gdf.reset_index(drop=True)"
   ],
   "id": "2c1f4f1c441dc942",
   "outputs": [],
   "execution_count": null
  },
  {
   "metadata": {},
   "cell_type": "code",
   "source": [
    "### We fix the invalid geometries in the Tang & Werner dataset\n",
    "invalid_geoms = tang_gdf[~tang_gdf.is_valid]\n",
    "if not invalid_geoms.empty:\n",
    "    print(f\"⚠️ Warning: {len(invalid_geoms)} invalid geometries found. Fixing them...\")\n",
    "    tang_gdf[\"geometry\"] = tang_gdf.buffer(0)  # Attempt to fix invalid geometries\n",
    "else:\n",
    "    print(\"✅ All geometries are valid.\")"
   ],
   "id": "962d419ee1253a2",
   "outputs": [],
   "execution_count": null
  },
  {
   "metadata": {},
   "cell_type": "code",
   "source": [
    "# Ensure both datasets are in the same CRS before clipping (convert to EPSG:4326)\n",
    "if tang_gdf.crs != \"EPSG:4326\":\n",
    "    tang_gdf = tang_gdf.to_crs(epsg=4326)\n",
    "\n",
    "if canada_boundary.crs != \"EPSG:4326\":\n",
    "    canada_boundary = canada_boundary.to_crs(epsg=4326)\n",
    "\n",
    "# Clip the global dataset to Canada\n",
    "tang_canada_gdf = gpd.clip(tang_gdf, canada_boundary)\n",
    "tang_canada_gdf = tang_canada_gdf.reset_index(drop=True)"
   ],
   "id": "3be557480bb26baf",
   "outputs": [],
   "execution_count": null
  },
  {
   "metadata": {},
   "cell_type": "code",
   "source": [
    "tang_canada_gdf = assign_id(tang_canada_gdf,\n",
    "                            canada_provinces,\n",
    "                                     id_column = 'tang_id',\n",
    "                                     prefix=\"TANG\")"
   ],
   "id": "9f4ad996991aa792",
   "outputs": [],
   "execution_count": null
  },
  {
   "metadata": {},
   "cell_type": "code",
   "source": [
    "maus_canada_gdf = assign_id(maus_canada_gdf, \n",
    "                            canada_provinces,\n",
    "                                     id_column = 'maus_id',\n",
    "                                     prefix=\"MAUS\")"
   ],
   "id": "7f587dee705ee96d",
   "outputs": [],
   "execution_count": null
  },
  {
   "metadata": {},
   "cell_type": "code",
   "source": [
    "# Drop useless columns\n",
    "tang_canada_gdf = tang_canada_gdf.drop(columns=['OBJECTID', 'Name', 'Shape_Le_1', 'Shape_Area', 'longitude', 'latitude'])\n",
    "maus_canada_gdf = maus_canada_gdf.drop(columns=['ISO3_CODE', 'COUNTRY_NAME', 'AREA', 'longitude', 'latitude'])"
   ],
   "id": "b15b80c1f6bae390",
   "outputs": [],
   "execution_count": null
  },
  {
   "metadata": {},
   "cell_type": "code",
   "source": "from db_creation_function import add_surface_area_polygons",
   "id": "3fec46436911cdde",
   "outputs": [],
   "execution_count": null
  },
  {
   "metadata": {},
   "cell_type": "code",
   "source": [
    "tang_canada_gdf = add_surface_area_polygons(tang_canada_gdf)\n",
    "maus_canada_gdf = add_surface_area_polygons(maus_canada_gdf)"
   ],
   "id": "69e4b62337cebce0",
   "outputs": [],
   "execution_count": null
  },
  {
   "metadata": {},
   "cell_type": "code",
   "source": [
    "tang_canada_gdf.to_csv(\"data/Tables/CSV/tang_canada_gdf.csv\", index=False)\n",
    "maus_canada_gdf.to_csv(\"data/Tables/CSV/maus_canada_gdf.csv\", index=False)"
   ],
   "id": "56bcd1084c796ab6",
   "outputs": [],
   "execution_count": null
  },
  {
   "metadata": {},
   "cell_type": "code",
   "source": [
    "tang_canada_gdf.to_file(\"data/Tables/GeoJSON/tang_canada_gdf.geojson\", driver=\"GeoJSON\")\n",
    "maus_canada_gdf.to_file(\"data/Tables/GeoJSON/maus_canada_gdf.geojson\", driver=\"GeoJSON\")"
   ],
   "id": "634ec738bc24169e",
   "outputs": [],
   "execution_count": null
  },
  {
   "metadata": {},
   "cell_type": "markdown",
   "source": "#### A bit of inspection of the polygons",
   "id": "7edc12d4b41368e8"
  },
  {
   "metadata": {},
   "cell_type": "code",
   "source": "from db_creation_function import analyze_and_compare_polygon_areas",
   "id": "897f7ca19a60d6bd",
   "outputs": [],
   "execution_count": null
  },
  {
   "metadata": {},
   "cell_type": "code",
   "source": [
    "polygons_areas = analyze_and_compare_polygon_areas(maus_canada_gdf, \n",
    "                                  tang_canada_gdf,\n",
    "                                  'Maus et al (2022)', \n",
    "                                  'Tang & Werner et al (2023)',\n",
    "                                  save_path=r'results/maus_tang_comparison_polygons.png'\n",
    "                                  )\n",
    "polygons_areas\n"
   ],
   "id": "2e0077e57c5f0825",
   "outputs": [],
   "execution_count": null
  },
  {
   "metadata": {},
   "cell_type": "markdown",
   "source": "### Create indigenous table",
   "id": "c0d8958e6d38fb5d"
  },
  {
   "metadata": {},
   "cell_type": "code",
   "source": [
    "indigenous_gdf = gpd.read_file(r'data/Sources/Indigenous_lands/Indigenous_comm_lands_v202411/Indigenous_comm_lands_v202411/CommunityLevelData_poly_202411.shp')\n",
    "indigenous_can_gdf = indigenous_gdf[indigenous_gdf['Country'] == 'Canada']"
   ],
   "id": "db95325b6eea6851",
   "outputs": [],
   "execution_count": null
  },
  {
   "metadata": {},
   "cell_type": "code",
   "source": [
    "col_to_keep = ['Name', 'Category', 'Data_Src', 'Data_Date', 'geometry']\n",
    "indigenous_can_gdf = indigenous_can_gdf[col_to_keep] "
   ],
   "id": "bf4f1fb09264b86a",
   "outputs": [],
   "execution_count": null
  },
  {
   "metadata": {},
   "cell_type": "code",
   "source": [
    "# Simplify geometries while keeping essential shape \n",
    "tolerance = 100  # 100 meters simplification tolerance\n",
    "indigenous_can_gdf[\"geometry\"] = indigenous_can_gdf[\"geometry\"].apply(lambda geom: geom.simplify(tolerance, preserve_topology=True))\n",
    "# Fix invalid geometries after simplification\n",
    "indigenous_can_gdf[\"geometry\"] = indigenous_can_gdf[\"geometry\"].buffer(0)"
   ],
   "id": "cd30287df5fd10b0",
   "outputs": [],
   "execution_count": null
  },
  {
   "metadata": {},
   "cell_type": "code",
   "source": [
    "indigenous_can_gdf = assign_id(\n",
    "    indigenous_can_gdf,\n",
    "    canada_provinces,\n",
    "    id_column = \"indigenous_land_id\",\n",
    "    prefix='IND',\n",
    "    name_col='Name'\n",
    ")"
   ],
   "id": "4de2adaad2355cf7",
   "outputs": [],
   "execution_count": null
  },
  {
   "metadata": {},
   "cell_type": "code",
   "source": "indigenous_can_gdf",
   "id": "6dac574f720bc7ff",
   "outputs": [],
   "execution_count": null
  },
  {
   "metadata": {},
   "cell_type": "code",
   "source": [
    "indigenous_can_gdf.to_csv(\"data/Tables/CSV/indigenous_can_gdf.csv\", index=False)\n",
    "indigenous_can_gdf.to_file(\"data/Tables/GeoJSON/indigenous_can_gdf.geojson\", driver=\"GeoJSON\")"
   ],
   "id": "79468fede0217bdb",
   "outputs": [],
   "execution_count": null
  },
  {
   "metadata": {},
   "cell_type": "markdown",
   "source": "### Create protected areas table",
   "id": "2d8d56b7d4771c2a"
  },
  {
   "metadata": {},
   "cell_type": "code",
   "source": [
    "# Polygons\n",
    "wpda_gdf_polygons_1 = gpd.read_file(r'data\\Sources\\Protected_areas\\WDPA_WDOECM_Mar2025_Public_CAN_shp\\WDPA_WDOECM_Mar2025_Public_CAN_shp_0\\WDPA_WDOECM_Mar2025_Public_CAN_shp-polygons.shp')\n",
    "wpda_gdf_polygons_2 = gpd.read_file(r'data\\Sources\\Protected_areas\\WDPA_WDOECM_Mar2025_Public_CAN_shp\\WDPA_WDOECM_Mar2025_Public_CAN_shp_1\\WDPA_WDOECM_Mar2025_Public_CAN_shp-polygons.shp')\n",
    "wpda_gdf_polygons_3 = gpd.read_file(r'data\\Sources\\Protected_areas\\WDPA_WDOECM_Mar2025_Public_CAN_shp\\WDPA_WDOECM_Mar2025_Public_CAN_shp_2\\WDPA_WDOECM_Mar2025_Public_CAN_shp-polygons.shp')\n",
    "\n",
    "# Points\n",
    "wpda_gdf_points_1 = gpd.read_file(r'data\\Sources\\Protected_areas\\WDPA_WDOECM_Mar2025_Public_CAN_shp\\WDPA_WDOECM_Mar2025_Public_CAN_shp_0\\WDPA_WDOECM_Mar2025_Public_CAN_shp-points.shp')\n",
    "wpda_gdf_points_2 = gpd.read_file(r'data\\Sources\\Protected_areas\\WDPA_WDOECM_Mar2025_Public_CAN_shp\\WDPA_WDOECM_Mar2025_Public_CAN_shp_1\\WDPA_WDOECM_Mar2025_Public_CAN_shp-points.shp')\n",
    "wpda_gdf_points_3 = gpd.read_file(r'data\\Sources\\Protected_areas\\WDPA_WDOECM_Mar2025_Public_CAN_shp\\WDPA_WDOECM_Mar2025_Public_CAN_shp_2\\WDPA_WDOECM_Mar2025_Public_CAN_shp-points.shp')"
   ],
   "id": "34fa81272bfb6d21",
   "outputs": [],
   "execution_count": null
  },
  {
   "metadata": {},
   "cell_type": "code",
   "source": [
    "# We merge the 3 files together\n",
    "wpda_gdf_polygons = gpd.GeoDataFrame(pd.concat([\n",
    "    wpda_gdf_polygons_1, wpda_gdf_polygons_2, wpda_gdf_polygons_3], \n",
    "    ignore_index=True))\n",
    "\n",
    "wpda_gdf_points = gpd.GeoDataFrame(pd.concat([\n",
    "    wpda_gdf_points_1, wpda_gdf_points_2, wpda_gdf_points_3], \n",
    "    ignore_index=True))"
   ],
   "id": "e45e10643c3022fa",
   "outputs": [],
   "execution_count": null
  },
  {
   "metadata": {},
   "cell_type": "code",
   "source": [
    "# Convert MULTIPOINT geometries to POINT\n",
    "def multipoint_to_point(geom):\n",
    "    \"\"\"Extracts the first point from a MULTIPOINT.\"\"\"\n",
    "    if geom.geom_type == \"MultiPoint\":\n",
    "        return geom.geoms[0]  # Extract first point\n",
    "    return geom  # Return as-is if it's already a Point"
   ],
   "id": "4f57193609af8587",
   "outputs": [],
   "execution_count": null
  },
  {
   "metadata": {},
   "cell_type": "code",
   "source": "wpda_gdf_points[\"geometry\"] = wpda_gdf_points[\"geometry\"].apply(multipoint_to_point)",
   "id": "35de1fa19340adcc",
   "outputs": [],
   "execution_count": null
  },
  {
   "metadata": {},
   "cell_type": "code",
   "source": [
    "col_to_keep = ['NAME', 'DESIG', 'OWN_TYPE', 'MANG_AUTH', 'STATUS_YR', 'geometry']\n",
    "wpda_gdf_polygons = wpda_gdf_polygons[col_to_keep]\n",
    "wpda_gdf_points = wpda_gdf_points[col_to_keep]"
   ],
   "id": "3fc880cf9bb3e559",
   "outputs": [],
   "execution_count": null
  },
  {
   "metadata": {},
   "cell_type": "code",
   "source": [
    "# Simplify geometries while keeping essential shape \n",
    "tolerance = 100  # 100 meters simplification tolerance\n",
    "wpda_gdf_polygons[\"geometry\"] = wpda_gdf_polygons[\"geometry\"].apply(lambda geom: geom.simplify(tolerance, preserve_topology=True))\n",
    "# Fix invalid geometries after simplification\n",
    "wpda_gdf_polygons[\"geometry\"] = wpda_gdf_polygons[\"geometry\"].buffer(0)"
   ],
   "id": "e9f62304907e2b32",
   "outputs": [],
   "execution_count": null
  },
  {
   "metadata": {},
   "cell_type": "code",
   "source": [
    "wpda_gdf_polygons = assign_id(\n",
    "    wpda_gdf_polygons,\n",
    "    canada_provinces,\n",
    "    id_column = \"wpda_id\",\n",
    "    prefix='WPDA', \n",
    "    name_col='NAME'\n",
    ")"
   ],
   "id": "8f3be1c0ce853e2d",
   "outputs": [],
   "execution_count": null
  },
  {
   "metadata": {},
   "cell_type": "code",
   "source": [
    "wpda_gdf_points = assign_id(\n",
    "    wpda_gdf_points,\n",
    "    canada_provinces,\n",
    "    id_column = \"wpda_id\",\n",
    "    prefix='WPDA',\n",
    "    name_col='NAME'\n",
    ")"
   ],
   "id": "715bab3a8bb8e8b3",
   "outputs": [],
   "execution_count": null
  },
  {
   "metadata": {},
   "cell_type": "code",
   "source": [
    "wpda_gdf_polygons.to_csv(\"data/Tables/CSV/wpda_gdf_polygons.csv\", index=False)\n",
    "wpda_gdf_points.to_csv(\"data/Tables/CSV/wpda_gdf_points.csv\", index=False)"
   ],
   "id": "2e4cb820074f2b1",
   "outputs": [],
   "execution_count": null
  },
  {
   "metadata": {},
   "cell_type": "code",
   "source": [
    "wpda_gdf_polygons.to_file(\"data/Tables/GeoJSON/wpda_gdf_polygons.geojson\", driver=\"GeoJSON\")\n",
    "wpda_gdf_points.to_file(\"data/Tables/GeoJSON/wpda_gdf_points.geojson\", driver=\"GeoJSON\")"
   ],
   "id": "57b478ce12ad80fc",
   "outputs": [],
   "execution_count": null
  },
  {
   "metadata": {},
   "cell_type": "markdown",
   "source": "## Children tables from GEE",
   "id": "c10efe4914db8cbe"
  },
  {
   "metadata": {},
   "cell_type": "markdown",
   "source": "### Create population table",
   "id": "217ae854f6e6e6ae"
  },
  {
   "metadata": {},
   "cell_type": "code",
   "source": "from gee_extraction import extract_ghsl_population",
   "id": "ff003bdae8773929",
   "outputs": [],
   "execution_count": null
  },
  {
   "metadata": {},
   "cell_type": "code",
   "source": [
    "population_gdf = main_gdf.copy()\n",
    "col_to_keep = ['main_id', 'facility_name', 'longitude', 'latitude', 'geometry']\n",
    "population_gdf = population_gdf[col_to_keep]"
   ],
   "id": "2a35020fd5da6cf7",
   "outputs": [],
   "execution_count": null
  },
  {
   "metadata": {},
   "cell_type": "code",
   "source": "population_gdf = extract_ghsl_population(population_gdf)",
   "id": "5445beef14ce4937",
   "outputs": [],
   "execution_count": null
  },
  {
   "metadata": {},
   "cell_type": "code",
   "source": [
    "# Insert a proper ID \n",
    "population_gdf.insert(0, \"population_id\", population_gdf[\"main_id\"])"
   ],
   "id": "bd9087025609a648",
   "outputs": [],
   "execution_count": null
  },
  {
   "metadata": {},
   "cell_type": "code",
   "source": [
    "population_gdf = assign_row_id(population_gdf,\n",
    "                  facility_id_col='main_id',\n",
    "                  prefix='population',\n",
    "                  year_col='year'\n",
    "                  )"
   ],
   "id": "c50b89c185702fbc",
   "outputs": [],
   "execution_count": null
  },
  {
   "metadata": {},
   "cell_type": "code",
   "source": [
    "population_gdf.to_file(r'data/Tables/GeoJSON/population_gdf.geojson', driver=\"GeoJSON\")\n",
    "population_gdf.to_csv(r'data/Tables/CSV/population_gdf.csv', index=False)"
   ],
   "id": "90a58aabb134e79b",
   "outputs": [],
   "execution_count": null
  },
  {
   "metadata": {},
   "cell_type": "markdown",
   "source": "### Create Natural Potential Vegetation table",
   "id": "881f8a7dbce9d198"
  },
  {
   "metadata": {},
   "cell_type": "code",
   "source": "from gee_extraction import extract_npv",
   "id": "94e0457f7fa951d",
   "outputs": [],
   "execution_count": null
  },
  {
   "metadata": {},
   "cell_type": "code",
   "source": "npv_gdf = extract_npv(main_gdf)",
   "id": "5da1e37d053fb3d0",
   "outputs": [],
   "execution_count": null
  },
  {
   "metadata": {},
   "cell_type": "code",
   "source": [
    "from constants import biome_dict\n",
    "npv_gdf['biome_type'] = npv_gdf['biome_type'].map(biome_dict)"
   ],
   "id": "903e0e75747d7b2e",
   "outputs": [],
   "execution_count": null
  },
  {
   "metadata": {},
   "cell_type": "code",
   "source": [
    "# Insert a proper ID \n",
    "npv_gdf.insert(0, \"npv_id\", npv_gdf[\"main_id\"])"
   ],
   "id": "b9ee25c295a726b1",
   "outputs": [],
   "execution_count": null
  },
  {
   "metadata": {},
   "cell_type": "code",
   "source": [
    "npv_gdf.to_file(\"data/Tables/GeoJSON/npv_gdf.geojson\", driver=\"GeoJSON\")\n",
    "npv_gdf.to_csv(\"data/Tables/CSV/npv_gdf.csv\", index=False)"
   ],
   "id": "eea47d6225452134",
   "outputs": [],
   "execution_count": null
  },
  {
   "metadata": {},
   "cell_type": "markdown",
   "source": "### Create land cover table",
   "id": "f9d498ea8e809316"
  },
  {
   "metadata": {},
   "cell_type": "code",
   "source": "from gee_extraction import extract_land_cover_type",
   "id": "b1fadd412cd4efb2",
   "outputs": [],
   "execution_count": null
  },
  {
   "metadata": {},
   "cell_type": "code",
   "source": "land_cover_gdf = extract_land_cover_type(main_gdf)",
   "id": "f824fa8a72f76227",
   "outputs": [],
   "execution_count": null
  },
  {
   "metadata": {},
   "cell_type": "code",
   "source": [
    "# Insert a proper ID \n",
    "land_cover_gdf.insert(0, \"land_cover_id\", land_cover_gdf[\"main_id\"])"
   ],
   "id": "56481379f4b67a35",
   "outputs": [],
   "execution_count": null
  },
  {
   "metadata": {},
   "cell_type": "code",
   "source": [
    "land_cover_gdf = assign_row_id(land_cover_gdf,\n",
    "                  facility_id_col='main_id',\n",
    "                  prefix='landcover',\n",
    "                  year_col='year'\n",
    "                  )"
   ],
   "id": "c092322ea27958e1",
   "outputs": [],
   "execution_count": null
  },
  {
   "metadata": {},
   "cell_type": "code",
   "source": [
    "land_cover_gdf.to_file(\"data/Tables/GeoJSON/land_cover_gdf.geojson\", driver=\"GeoJSON\")\n",
    "land_cover_gdf.to_csv(\"data/Tables/CSV/land_cover_gdf.csv\", index=False)"
   ],
   "id": "d23ca50bc988232d",
   "outputs": [],
   "execution_count": null
  },
  {
   "metadata": {},
   "cell_type": "markdown",
   "source": "### Create Water risk table",
   "id": "561dc9d08f90efeb"
  },
  {
   "metadata": {},
   "cell_type": "code",
   "source": "from gee_extraction import extract_aqueduct",
   "id": "90ef3ce33202dc69",
   "outputs": [],
   "execution_count": null
  },
  {
   "metadata": {},
   "cell_type": "code",
   "source": [
    "water_risk_gdf = main_gdf.copy()\n",
    "col_to_keep = ['main_id', 'facility_name', 'longitude', 'latitude', 'geometry']\n",
    "water_risk_gdf = water_risk_gdf[col_to_keep]"
   ],
   "id": "c7a43c71298ce0fa",
   "outputs": [],
   "execution_count": null
  },
  {
   "metadata": {},
   "cell_type": "code",
   "source": "water_risk_gdf = extract_aqueduct(water_risk_gdf)",
   "id": "3e6c4f045c2af2e2",
   "outputs": [],
   "execution_count": null
  },
  {
   "metadata": {},
   "cell_type": "code",
   "source": [
    "from constants import water_risk_dict\n",
    "water_risk_gdf[\"indicator\"] = water_risk_gdf[\"indicator\"].map(water_risk_dict)"
   ],
   "id": "3ee4516b774c7bad",
   "outputs": [],
   "execution_count": null
  },
  {
   "metadata": {},
   "cell_type": "code",
   "source": [
    "# Insert a proper ID \n",
    "water_risk_gdf.insert(0, \"water_risk_id\", water_risk_gdf[\"main_id\"])"
   ],
   "id": "4db7702b6b533c45",
   "outputs": [],
   "execution_count": null
  },
  {
   "metadata": {},
   "cell_type": "code",
   "source": [
    "water_risk_gdf = assign_row_id(water_risk_gdf,\n",
    "                  facility_id_col='main_id',\n",
    "                  prefix='water_risk',\n",
    "                  year_col='year',\n",
    "                  scenario_col='scenario'             \n",
    "                  )"
   ],
   "id": "648750580665f821",
   "outputs": [],
   "execution_count": null
  },
  {
   "metadata": {},
   "cell_type": "code",
   "source": [
    "water_risk_gdf.to_file(\"data/Tables/GeoJSON/water_risk_gdf.geojson\", driver=\"GeoJSON\")\n",
    "water_risk_gdf.to_csv(\"data/Tables/CSV/water_risk_gdf.csv\", index=False)"
   ],
   "id": "d75b94709e2f4d79",
   "outputs": [],
   "execution_count": null
  },
  {
   "metadata": {},
   "cell_type": "markdown",
   "source": "# 2) Matching",
   "id": "b3f4a16cb23c148b"
  },
  {
   "metadata": {},
   "cell_type": "code",
   "source": [
    "from matching_functions import match_facilities, assign_best_match, match_facility_to_polygons_with_buffer\n",
    "from matching_functions import cluster_sites_and_polygons"
   ],
   "id": "577dc500ebc1d804",
   "outputs": [],
   "execution_count": null
  },
  {
   "metadata": {},
   "cell_type": "markdown",
   "source": "## Point to point matching",
   "id": "5296b55dd40abd26"
  },
  {
   "metadata": {},
   "cell_type": "code",
   "source": [
    "matching_main_tailings = match_facilities(main_gdf, tailings_gdf,\n",
    "                     id_col1='main_id', id_col2='tailing_id',\n",
    "                     name_col1='facility_name', name_col2='mine'\n",
    "                     )"
   ],
   "id": "7088dc9c4433ded4",
   "outputs": [],
   "execution_count": null
  },
  {
   "metadata": {},
   "cell_type": "code",
   "source": [
    "matching_main_ghg = match_facilities(main_gdf, ghg_gdf,\n",
    "                     id_col1='main_id', id_col2='ghg_id',\n",
    "                     name_col1='facility_name', name_col2='facility_name_ghg'\n",
    "                     )"
   ],
   "id": "13f34c9dd3d2fb",
   "outputs": [],
   "execution_count": null
  },
  {
   "metadata": {},
   "cell_type": "code",
   "source": [
    "matching_main_pollution = match_facilities(main_gdf, pollutant_gdf,\n",
    "                     id_col1='main_id', id_col2='pollutant_id',\n",
    "                     name_col1='facility_name', name_col2='facility_name_npri'\n",
    "                     )"
   ],
   "id": "c92bd3a18b44d688",
   "outputs": [],
   "execution_count": null
  },
  {
   "metadata": {},
   "cell_type": "code",
   "source": [
    "matching_main_mincan = match_facilities(main_gdf, min_can_gdf,\n",
    "                     id_col1='main_id', id_col2='mincan_id',\n",
    "                     name_col1='facility_name', name_col2='namemine'\n",
    "                     )"
   ],
   "id": "d2ec996bf76c5cce",
   "outputs": [],
   "execution_count": null
  },
  {
   "metadata": {},
   "cell_type": "code",
   "source": [
    "matching_main_tailings\n",
    "matching_main_ghg\n",
    "matching_main_pollution\n",
    "matching_main_mincan"
   ],
   "id": "b6c9a78438d33612",
   "outputs": [],
   "execution_count": null
  },
  {
   "metadata": {},
   "cell_type": "code",
   "source": "matching_main_ghg",
   "id": "530afe79d300423f",
   "outputs": [],
   "execution_count": null
  },
  {
   "metadata": {},
   "cell_type": "code",
   "source": [
    "assigned_matches = assign_best_match(\n",
    "    match_df=matching_main_ghg,\n",
    "    id_main_col=\"main_id\",\n",
    "    id_sat_col=\"ghg_id\",\n",
    "    name_main_col=\"name\",\n",
    "    name_sat_col=\"facility_name_ghg\",\n",
    "    strategy=\"combined\",  # you can change to \"distance\" or others\n",
    "    weight_similarity=0.5,\n",
    "    weight_distance=0.5\n",
    ")\n",
    "assigned_matches"
   ],
   "id": "161c5ddc4c23b2b6",
   "outputs": [],
   "execution_count": null
  },
  {
   "metadata": {},
   "cell_type": "code",
   "source": [
    "def merge_assigned_matches_to_satellite(\n",
    "    satellite_df,\n",
    "    assigned_matches,\n",
    "    satellite_id_col,\n",
    "    main_id_col=\"main_id\"\n",
    "):\n",
    "    \"\"\"\n",
    "    Merges assigned matches into a satellite table to include the main facility ID (foreign key).\n",
    "\n",
    "    Parameters:\n",
    "        satellite_df (pd.DataFrame): Your satellite table (e.g. ghg, waste).\n",
    "        assigned_matches (pd.DataFrame): Output from assign_best_match().\n",
    "        satellite_id_col (str): Column in both dataframes for the satellite table's ID (e.g. 'ghg_id').\n",
    "        main_id_col (str): Column name in assigned_matches for the main table's ID (default: 'main_id').\n",
    "\n",
    "    Returns:\n",
    "        pd.DataFrame: The satellite dataframe with a new column: main_id (foreign key).\n",
    "    \"\"\"\n",
    "    merged_df = satellite_df.merge(\n",
    "        assigned_matches,\n",
    "        on=satellite_id_col,\n",
    "        how=\"left\"\n",
    "    )\n",
    "    return merged_df\n"
   ],
   "id": "6c6ad021b37998df",
   "outputs": [],
   "execution_count": null
  },
  {
   "metadata": {},
   "cell_type": "code",
   "source": "assigned_matches.columns",
   "id": "bf8287edc335eef5",
   "outputs": [],
   "execution_count": null
  },
  {
   "metadata": {},
   "cell_type": "code",
   "source": "ghg_gdf_test = ghg_gdf.copy()",
   "id": "f8dfcfc1ed43ca33",
   "outputs": [],
   "execution_count": null
  },
  {
   "metadata": {},
   "cell_type": "code",
   "source": [
    "ghg_gdf_test_merge = ghg_gdf_test.merge(\n",
    "    assigned_matches,\n",
    "    on=\"ghg_id\",  # join using the GHG table's ID\n",
    "    how=\"left\"\n",
    ")"
   ],
   "id": "6b4465be4a6f5c7b",
   "outputs": [],
   "execution_count": null
  },
  {
   "metadata": {},
   "cell_type": "code",
   "source": "ghg_gdf_test_merge",
   "id": "328a2946f580188",
   "outputs": [],
   "execution_count": null
  },
  {
   "metadata": {},
   "cell_type": "markdown",
   "source": "## Point to polygon matching ",
   "id": "c9a6367440df2540"
  },
  {
   "metadata": {},
   "cell_type": "markdown",
   "source": "### Buffer approach",
   "id": "9786f956f13394e3"
  },
  {
   "metadata": {},
   "cell_type": "code",
   "source": "matching_main_tang = match_facility_to_polygons_with_buffer(main_gdf, tang_canada_gdf, 'main_id', 'tang_id')\n",
   "id": "6662797f7206bb2b",
   "outputs": [],
   "execution_count": null
  },
  {
   "metadata": {},
   "cell_type": "code",
   "source": "matching_main_wpda = match_facility_to_polygons_with_buffer(main_gdf, wpda_polygons_gdf, 'main_id', 'wpda_id')\n",
   "id": "c2fcafb73b979c15",
   "outputs": [],
   "execution_count": null
  },
  {
   "metadata": {},
   "cell_type": "code",
   "source": "matching_main_indigenous = match_facility_to_polygons_with_buffer(main_gdf, indigenous_gdf, 'main_id', 'indigenous_land_id')\n",
   "id": "d686319ad65b917",
   "outputs": [],
   "execution_count": null
  },
  {
   "metadata": {},
   "cell_type": "code",
   "source": [
    "matching_main_wpda.to_csv(r'data/Tables/Matching/Points_to_polygons/matching_main_wpda_polygons.csv', index=False)\n",
    "matching_main_indigenous.to_csv(r'data/Tables/Matching/Points_to_polygons/matching_main_indigenous.csv', index=False)"
   ],
   "id": "d3f27faf838dbdc3",
   "outputs": [],
   "execution_count": null
  },
  {
   "metadata": {},
   "cell_type": "code",
   "source": [
    "def plot_polygons_per_facility(df):\n",
    "    \"\"\"\n",
    "    Plots a histogram showing the distribution of the number of polygons per facility.\n",
    "    \"\"\"\n",
    "    polygons_per_facility = df.groupby(\"main_id\")[\"wpda_id\"].nunique()\n",
    "    \n",
    "    # Adjusted histogram with each count clearly positioned on the x-axis\n",
    "    plt.figure(figsize=(12, 6))\n",
    "    bins = range(0, polygons_per_facility.max() + 2)  # Ensure each count has its own bin\n",
    "    sns.histplot(polygons_per_facility, bins=bins, kde=True, discrete=True)  # Ensure bars align properly\n",
    "    plt.xlabel(\"Number of Polygons per Facility\")\n",
    "    plt.ylabel(\"Count of Facilities\")\n",
    "    plt.title(\"Dispersion of Polygons per Facility (Properly Aligned Bars)\")\n",
    "    plt.xticks(bins)  # Ensure each integer is labeled\n",
    "    plt.show()"
   ],
   "id": "712b220533825fb9",
   "outputs": [],
   "execution_count": null
  },
  {
   "metadata": {},
   "cell_type": "code",
   "source": "plot_polygons_per_facility(matching_main_wpda)",
   "id": "d161641819559efb",
   "outputs": [],
   "execution_count": null
  },
  {
   "metadata": {},
   "cell_type": "markdown",
   "source": "### Clustering approach",
   "id": "a907430576f7c519"
  },
  {
   "metadata": {},
   "cell_type": "code",
   "source": [
    "# Fix the geometries, some are Point (nan, nan)\n",
    "tailings_gdf = tailings_gdf[\n",
    "    (tailings_gdf.geometry.notnull()) &\n",
    "    (~tailings_gdf.geometry.is_empty) &\n",
    "    (tailings_gdf.geometry.type == \"Point\") &\n",
    "    (~tailings_gdf.geometry.apply(lambda g: np.isnan(g.x) or np.isnan(g.y)))\n",
    "].copy()\n"
   ],
   "id": "aa762c2fb59e1ab2",
   "outputs": [],
   "execution_count": null
  },
  {
   "metadata": {},
   "cell_type": "code",
   "source": "",
   "id": "789b37b3abed83fc",
   "outputs": [],
   "execution_count": null
  },
  {
   "metadata": {},
   "cell_type": "code",
   "source": [
    "def cluster_sites_and_polygons(\n",
    "    facility_gdf, polygon_gdf, tailing_gdf,\n",
    "    facility_id_col=\"main_id\",\n",
    "    polygon_id_col=\"tang_id\",\n",
    "    tailing_id_col=\"tailing_id\",\n",
    "    eps_km=10, min_samples=2, crs=\"EPSG:3978\", boundary_step=5):\n",
    "    \"\"\"\n",
    "    Cluster facilities, tailings, and polygons spatially using DBSCAN, and assign shared cluster IDs.\n",
    "\n",
    "    Each point or polygon will receive a 'cluster_id'.\n",
    "    A 'check_manually' flag is added when multiple facilities or tailings are grouped together.\n",
    "\n",
    "    Parameters:\n",
    "    - facility_gdf (GeoDataFrame): Point data of facilities with a unique ID column.\n",
    "    - polygon_gdf (GeoDataFrame): Polygon data to match, with a unique ID column.\n",
    "    - tailing_gdf (GeoDataFrame): Point data of tailings, also with unique ID column.\n",
    "    - facility_id_col (str): Column name for unique facility ID.\n",
    "    - polygon_id_col (str): Column name for unique polygon ID.\n",
    "    - tailing_id_col (str): Column name for unique tailing ID.\n",
    "    - eps_km (float): Max distance (in km) to cluster together (DBSCAN's `eps`).\n",
    "    - min_samples (int): Minimum number of samples to form a cluster (DBSCAN).\n",
    "    - crs (str): CRS for accurate distance computation (default: EPSG:3978 = Canada Albers).\n",
    "    - boundary_step (int): Sampling step for polygon boundary points (1 = no simplification).\n",
    "\n",
    "    Returns:\n",
    "    - facility_gdf (GeoDataFrame): With added 'cluster_id' and 'check_manually' columns.\n",
    "    - polygon_gdf (GeoDataFrame): Same.\n",
    "    - tailing_gdf (GeoDataFrame): Same.\n",
    "    \"\"\"\n",
    "\n",
    "    import pandas as pd\n",
    "    import numpy as np\n",
    "    import geopandas as gpd\n",
    "    from shapely.geometry import Point, Polygon, MultiPolygon\n",
    "    from sklearn.cluster import DBSCAN\n",
    "\n",
    "    # Ensure consistent CRS\n",
    "    facility_gdf = facility_gdf.to_crs(crs)\n",
    "    tailing_gdf = tailing_gdf.to_crs(crs)\n",
    "    polygon_gdf = polygon_gdf.to_crs(crs).explode(index_parts=False)\n",
    "\n",
    "    # Clean Z-dimension from polygons\n",
    "    def to_2d(geom):\n",
    "        if isinstance(geom, MultiPolygon):\n",
    "            return MultiPolygon([Polygon([(x, y) for x, y, *_ in poly.exterior.coords]) for poly in geom.geoms])\n",
    "        elif isinstance(geom, Polygon):\n",
    "            return Polygon([(x, y) for x, y, *_ in geom.exterior.coords])\n",
    "        return geom\n",
    "\n",
    "    polygon_gdf[\"geometry\"] = polygon_gdf[\"geometry\"].apply(to_2d)\n",
    "\n",
    "    # Extract polygon boundary points\n",
    "    def boundary_points(geom, pid):\n",
    "        coords = list(geom.exterior.coords)[::boundary_step]\n",
    "        return [(pid, Point(c)) for c in coords]\n",
    "\n",
    "    poly_points = []\n",
    "    for _, row in polygon_gdf.iterrows():\n",
    "        poly_points.extend(boundary_points(row[\"geometry\"], row[polygon_id_col]))\n",
    "\n",
    "    poly_gdf = gpd.GeoDataFrame(poly_points, columns=[polygon_id_col, \"geometry\"], crs=crs)\n",
    "    poly_gdf[facility_id_col] = None\n",
    "    poly_gdf[tailing_id_col] = None\n",
    "\n",
    "    # Prepare facility and tailing points\n",
    "    facility_tmp = facility_gdf[[facility_id_col, \"geometry\"]].copy()\n",
    "    facility_tmp[polygon_id_col] = None\n",
    "    facility_tmp[tailing_id_col] = None\n",
    "\n",
    "    tailing_tmp = tailing_gdf[[tailing_id_col, \"geometry\"]].copy()\n",
    "    tailing_tmp[polygon_id_col] = None\n",
    "    tailing_tmp[facility_id_col] = None\n",
    "\n",
    "    # Combine all points for clustering\n",
    "    all_points = pd.concat([facility_tmp, tailing_tmp, poly_gdf], ignore_index=True)\n",
    "    all_points = all_points[all_points.geometry.notna()].copy()\n",
    "\n",
    "\n",
    "    # Get coordinates and run clustering\n",
    "    coords = np.array([(geom.x, geom.y) for geom in all_points.geometry])\n",
    "    db = DBSCAN(eps=eps_km * 1000, min_samples=min_samples).fit(coords)\n",
    "    all_points[\"cluster_id\"] = db.labels_\n",
    "\n",
    "    # Cluster statistics\n",
    "    cluster_stats = all_points.groupby(\"cluster_id\").agg({\n",
    "        facility_id_col: lambda x: x.notna().sum(),\n",
    "        tailing_id_col: lambda x: x.notna().sum(),\n",
    "    }).rename(columns={\n",
    "        facility_id_col: \"n_facilities\",\n",
    "        tailing_id_col: \"n_tailings\"\n",
    "    }).reset_index()\n",
    "\n",
    "    cluster_stats[\"check_manually\"] = (cluster_stats[\"n_facilities\"] > 1) | (cluster_stats[\"n_tailings\"] > 1)\n",
    "\n",
    "    # Merge stats back\n",
    "    all_points = all_points.merge(cluster_stats[[\"cluster_id\", \"check_manually\"]], on=\"cluster_id\", how=\"left\")\n",
    "\n",
    "    # Assign back to original GeoDataFrames\n",
    "    def assign_cluster(df, id_col):\n",
    "        cluster_info = all_points[[id_col, \"cluster_id\", \"check_manually\"]].dropna(subset=[id_col])\n",
    "        return df.merge(cluster_info, on=id_col, how=\"left\")\n",
    "\n",
    "    facility_gdf = assign_cluster(facility_gdf, facility_id_col)\n",
    "    tailing_gdf = assign_cluster(tailing_gdf, tailing_id_col)\n",
    "    polygon_gdf = assign_cluster(polygon_gdf, polygon_id_col)\n",
    "\n",
    "    return facility_gdf, polygon_gdf, tailing_gdf"
   ],
   "id": "d6dd5f034fc14492",
   "outputs": [],
   "execution_count": null
  },
  {
   "metadata": {},
   "cell_type": "code",
   "source": "facility_test, polygon_test, tailing_test = cluster_sites_and_polygons(main_gdf, tang_canada_gdf, tailings_gdf)",
   "id": "12c117f3b6f6df6d",
   "outputs": [],
   "execution_count": null
  },
  {
   "metadata": {},
   "cell_type": "code",
   "source": "facility_test",
   "id": "c49c9f43663a0c8d",
   "outputs": [],
   "execution_count": null
  },
  {
   "metadata": {},
   "cell_type": "code",
   "source": "tailing_test",
   "id": "2083dd9d3d64d940",
   "outputs": [],
   "execution_count": null
  },
  {
   "metadata": {},
   "cell_type": "markdown",
   "source": "",
   "id": "28693be8fa362801"
  },
  {
   "metadata": {},
   "cell_type": "markdown",
   "source": "# 3) Exports ",
   "id": "f4c05b5880c0f4d2"
  },
  {
   "metadata": {},
   "cell_type": "markdown",
   "source": "## SQL format",
   "id": "b010e8193f8990ba"
  },
  {
   "metadata": {},
   "cell_type": "code",
   "source": "import sqlite3",
   "id": "8209b84811e096db",
   "outputs": [],
   "execution_count": null
  },
  {
   "metadata": {},
   "cell_type": "code",
   "source": [
    "# Connect to SQLite database\n",
    "conn = sqlite3.connect(\"database.sqlite\")\n",
    "\n",
    "# Export facility_df1 and facility_df2 to SQLite\n",
    "main_gdf.drop(columns=\"geometry\").to_sql(\"main\", conn, if_exists=\"replace\", index=False)\n",
    "pollutant_gdf.drop(columns=\"geometry\").to_sql(\"pollution\", conn, if_exists=\"replace\", index=False)\n",
    "\n",
    "# Export match_table to SQLite\n",
    "matching_main_pollution.to_sql(\"match_table\", conn, if_exists=\"replace\", index=False)\n",
    "\n",
    "# Close connection\n",
    "conn.close()"
   ],
   "id": "e17de74dcee2fb85",
   "outputs": [],
   "execution_count": null
  },
  {
   "metadata": {},
   "cell_type": "markdown",
   "source": "## Maps",
   "id": "1b40306daceef6fc"
  },
  {
   "metadata": {},
   "cell_type": "code",
   "source": "#Works but around 69MO, lags a lot",
   "id": "87e34b61b6aa8f9f",
   "outputs": [],
   "execution_count": null
  },
  {
   "metadata": {},
   "cell_type": "code",
   "source": [
    "import geopandas as gpd\n",
    "import folium\n",
    "import leafmap.foliumap as leafmap\n",
    "import os\n",
    "\n",
    "\n",
    "def create_map(\n",
    "    facility_gdf,\n",
    "    polygon_gdf,\n",
    "    tailing_gdf,\n",
    "    output_html=\"leafmap_clusters.html\",\n",
    "    screenshot_png=\"canada_map_screenshot.png\",\n",
    "    simplify_tolerance=0.0005,\n",
    "    center=(61.0667, -107.9917),  # True Canada center\n",
    "    zoom=4,\n",
    "    take_screenshot=False\n",
    "):\n",
    "    \"\"\"\n",
    "    Creates a lightweight interactive HTML map with facilities, polygons, tailings.\n",
    "    - Reprojects to EPSG:4326 (required for web mapping)\n",
    "    - Simplifies polygons for performance\n",
    "    - Adds Esri Satellite basemap\n",
    "    - Optionally exports a PNG screenshot (centered over Canada)\n",
    "\n",
    "    Parameters:\n",
    "    - output_html: Path to saved HTML map\n",
    "    - screenshot_png: If set, exports screenshot (requires selenium)\n",
    "    - take_screenshot: Set to False to skip PNG export\n",
    "    \"\"\"\n",
    "\n",
    "    def clean_gdf(gdf, simplify=False):\n",
    "        gdf = gdf.copy()\n",
    "        if gdf.crs is None or gdf.crs.to_epsg() != 4326:\n",
    "            gdf = gdf.to_crs(\"EPSG:4326\")\n",
    "        if simplify:\n",
    "            gdf[\"geometry\"] = gdf[\"geometry\"].simplify(simplify_tolerance, preserve_topology=True)\n",
    "        gdf = gdf[~gdf.geometry.is_empty & gdf.geometry.notna()].reset_index(drop=True)\n",
    "        return gdf\n",
    "\n",
    "    # Clean & simplify\n",
    "    polygon_clean = clean_gdf(polygon_gdf, simplify=True)\n",
    "    facility_clean = clean_gdf(facility_gdf)\n",
    "    tailing_clean = clean_gdf(tailing_gdf)\n",
    "\n",
    "    # Create folium-based map with satellite basemap\n",
    "    m = leafmap.Map(center=center, zoom=zoom)\n",
    "    m.add_basemap(\"Esri.WorldImagery\")\n",
    "\n",
    "    # Add polygons\n",
    "    folium.GeoJson(\n",
    "        polygon_clean,\n",
    "        name=\"Polygons\",\n",
    "        style_function=lambda x: {\n",
    "            \"fillColor\": \"yellow\",\n",
    "            \"color\": \"black\",\n",
    "            \"weight\": 1,\n",
    "            \"fillOpacity\": 0.4,\n",
    "        },\n",
    "        tooltip=folium.GeoJsonTooltip(fields=polygon_clean.columns[:2].tolist())\n",
    "    ).add_to(m)\n",
    "\n",
    "    # Add facilities\n",
    "    for _, row in facility_clean.iterrows():\n",
    "        folium.CircleMarker(\n",
    "            location=[row.geometry.y, row.geometry.x],\n",
    "            radius=4,\n",
    "            color=\"blue\",\n",
    "            fill=True,\n",
    "            fill_opacity=0.8,\n",
    "            popup=f\"Facility ID: {row.get('main_id', 'N/A')}\"\n",
    "        ).add_to(m)\n",
    "\n",
    "    # Add tailings\n",
    "    for _, row in tailing_clean.iterrows():\n",
    "        folium.CircleMarker(\n",
    "            location=[row.geometry.y, row.geometry.x],\n",
    "            radius=4,\n",
    "            color=\"red\",\n",
    "            fill=True,\n",
    "            fill_opacity=0.8,\n",
    "            popup=f\"Tailing ID: {row.get('tailing_id', 'N/A')}\"\n",
    "        ).add_to(m)\n",
    "\n",
    "    # Export to HTML\n",
    "    folium.LayerControl().add_to(m)\n",
    "    m.to_html(output_html)\n",
    "    print(f\"✅ Map exported to: {output_html}\")\n",
    "\n",
    "    # Optional screenshot with selenium\n",
    "    if take_screenshot:\n",
    "        try:\n",
    "            from selenium import webdriver\n",
    "            from selenium.webdriver.chrome.options import Options\n",
    "            import time\n",
    "\n",
    "            options = Options()\n",
    "            options.add_argument(\"--headless=new\")\n",
    "            options.add_argument(\"--window-size=1920,1080\")\n",
    "            driver = webdriver.Chrome(options=options)\n",
    "            driver.get(\"file://\" + os.path.abspath(output_html))\n",
    "            time.sleep(3)  # Wait for tiles to load\n",
    "            driver.save_screenshot(screenshot_png)\n",
    "            driver.quit()\n",
    "            print(f\"📸 Screenshot saved to: {screenshot_png}\")\n",
    "        except Exception as e:\n",
    "            print(\"⚠️ Screenshot failed:\", e)\n",
    "\n",
    "    return m"
   ],
   "id": "41356dd32ae97ef2",
   "outputs": [],
   "execution_count": null
  },
  {
   "metadata": {},
   "cell_type": "code",
   "source": "create_map(facility_test, polygon_test, tailing_test)",
   "id": "54f9dad2cdae33a",
   "outputs": [],
   "execution_count": null
  },
  {
   "metadata": {},
   "cell_type": "code",
   "source": "",
   "id": "20d77d942d29aab1",
   "outputs": [],
   "execution_count": null
  },
  {
   "metadata": {},
   "cell_type": "code",
   "source": "",
   "id": "c8395fcea7a4ccf7",
   "outputs": [],
   "execution_count": null
  }
 ],
 "metadata": {
  "kernelspec": {
   "display_name": "Python 3",
   "language": "python",
   "name": "python3"
  },
  "language_info": {
   "codemirror_mode": {
    "name": "ipython",
    "version": 2
   },
   "file_extension": ".py",
   "mimetype": "text/x-python",
   "name": "python",
   "nbconvert_exporter": "python",
   "pygments_lexer": "ipython2",
   "version": "2.7.6"
  }
 },
 "nbformat": 4,
 "nbformat_minor": 5
}
